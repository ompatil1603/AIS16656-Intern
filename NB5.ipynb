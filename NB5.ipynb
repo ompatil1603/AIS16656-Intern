{
 "cells": [
  {
   "cell_type": "code",
   "execution_count": 31,
   "id": "1eb5988d-c3cc-4da9-9129-66fa870742e5",
   "metadata": {},
   "outputs": [
    {
     "name": "stdout",
     "output_type": "stream",
     "text": [
      "59 is odd.\n",
      "65 is odd.\n",
      "49 is odd.\n",
      "4 is even.\n",
      "94 is even.\n",
      "34 is even.\n",
      "85 is odd.\n"
     ]
    }
   ],
   "source": [
    "#1\n",
    "numbers = [59,65,49,4,94,34,85]\n",
    "\n",
    "# Check if numbers are odd or even\n",
    "for l in numbers:\n",
    "    if is_odd(l):\n",
    "        print(f\"{l} is odd.\")\n",
    "    else:\n",
    "        print(f\"{l} is even.\")"
   ]
  },
  {
   "cell_type": "code",
   "execution_count": 37,
   "id": "0601716d-02ee-4068-aa47-bde99fae0f24",
   "metadata": {},
   "outputs": [
    {
     "name": "stdout",
     "output_type": "stream",
     "text": [
      "2 is even.\n",
      "32 is even.\n",
      "65 is odd.\n",
      "48 is even.\n",
      "96 is even.\n",
      "73 is odd.\n",
      "56 is even.\n"
     ]
    }
   ],
   "source": [
    "#2\n",
    "# Example usage\n",
    "numbers = [2,32,65,48,96,73,56]\n",
    "\n",
    "# Check if numbers are odd or even\n",
    "for number in numbers:\n",
    "    if is_odd(number):\n",
    "        print(f\"{number} is odd.\")\n",
    "    else:\n",
    "        print(f\"{number} is even.\")"
   ]
  },
  {
   "cell_type": "code",
   "execution_count": 35,
   "id": "f55589ae-189a-44e2-8cf7-a55ddfaaaaf0",
   "metadata": {},
   "outputs": [
    {
     "name": "stdout",
     "output_type": "stream",
     "text": [
      "A score of 95 gets a grade of A.\n",
      "A score of 85 gets a grade of B.\n",
      "A score of 76 gets a grade of C.\n",
      "A score of 59 gets a grade of F.\n",
      "A score of 40 gets a grade of F.\n"
     ]
    }
   ],
   "source": [
    "def assign_grade(score):\n",
    "    \"\"\"Assign a letter grade based on the numeric score.\"\"\"\n",
    "    if score >= 90:\n",
    "        return 'A'\n",
    "    elif score >= 80:\n",
    "        return 'B'\n",
    "    elif score >= 70:\n",
    "        return 'C'\n",
    "    elif score >= 60:\n",
    "        return 'D'\n",
    "    else:\n",
    "        return 'F'\n",
    "for score in scores:\n",
    "    grade = assign_grade(score)\n",
    "    print(f\"A score of {score} gets a grade of {grade}.\")"
   ]
  },
  {
   "cell_type": "code",
   "execution_count": 38,
   "id": "26e05fe8-12e9-4011-9dd1-d62bce83e05a",
   "metadata": {},
   "outputs": [
    {
     "name": "stdout",
     "output_type": "stream",
     "text": [
      "A score of 95 gets a grade of A.\n",
      "A score of 85 gets a grade of A.\n",
      "A score of 76 gets a grade of A.\n",
      "A score of 59 gets a grade of D.\n",
      "A score of 40 gets a grade of F.\n",
      "A score of 56 gets a grade of F.\n",
      "A score of 36 gets a grade of F.\n"
     ]
    }
   ],
   "source": [
    "scores = [95, 85, 76, 59, 40,56,36]\n",
    "\n",
    "def assign_grade(score):\n",
    "    \"\"\"Assign a letter grade based on the numeric score.\"\"\"\n",
    "    if score >= 75:\n",
    "        return 'A'\n",
    "    elif score >= 65:\n",
    "        return 'B'\n",
    "    elif score >= 90:\n",
    "        return 'C'\n",
    "    elif score >= 59:\n",
    "        return 'D'\n",
    "    else:\n",
    "        return 'F'\n",
    "for score in scores:\n",
    "    grade = assign_grade(score)\n",
    "    print(f\"A score of {score} gets a grade of {grade}.\")"
   ]
  }
 ],
 "metadata": {
  "kernelspec": {
   "display_name": "Python 3 (ipykernel)",
   "language": "python",
   "name": "python3"
  },
  "language_info": {
   "codemirror_mode": {
    "name": "ipython",
    "version": 3
   },
   "file_extension": ".py",
   "mimetype": "text/x-python",
   "name": "python",
   "nbconvert_exporter": "python",
   "pygments_lexer": "ipython3",
   "version": "3.11.7"
  }
 },
 "nbformat": 4,
 "nbformat_minor": 5
}
