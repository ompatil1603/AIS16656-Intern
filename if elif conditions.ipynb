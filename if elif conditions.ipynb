{
 "cells": [
  {
   "cell_type": "code",
   "execution_count": 4,
   "id": "45820598-c9c2-451d-b010-b947cc9dee70",
   "metadata": {},
   "outputs": [
    {
     "name": "stdout",
     "output_type": "stream",
     "text": [
      "a and b are equal\n"
     ]
    }
   ],
   "source": [
    "#Elif\n",
    "#The elif keyword is Python's way of saying \"if the previous conditions were not true, then try this condition\"\n",
    "#1\n",
    "a = 58\n",
    "b = 58\n",
    "if b > a:\n",
    "  print(\"b is greater than a\")\n",
    "elif a == b:\n",
    "  print(\"a and b are equal\")"
   ]
  },
  {
   "cell_type": "code",
   "execution_count": 5,
   "id": "0406f20a-5ae2-4bed-b56b-79885d545fc5",
   "metadata": {},
   "outputs": [
    {
     "name": "stdout",
     "output_type": "stream",
     "text": [
      "x and y are equal\n"
     ]
    }
   ],
   "source": [
    "#2\n",
    "x = 61\n",
    "y = 61\n",
    "if y > x:\n",
    "  print(\"y is greater than x\")\n",
    "elif a == b:\n",
    "  print(\"x and y are equal\")"
   ]
  },
  {
   "cell_type": "code",
   "execution_count": 7,
   "id": "a33e380c-bea7-4280-a837-c4835c8f3c04",
   "metadata": {},
   "outputs": [
    {
     "name": "stdout",
     "output_type": "stream",
     "text": [
      "x is greater than y\n"
     ]
    }
   ],
   "source": [
    "#3\n",
    "x = 557\n",
    "y = 69\n",
    "if y > x:\n",
    "  print(\"y is greater than x\")\n",
    "elif x == y:\n",
    "  print(\"x and y are equal\")\n",
    "else:\n",
    "  print(\"x is greater than y\")"
   ]
  },
  {
   "cell_type": "code",
   "execution_count": 8,
   "id": "d1a12534-ba59-44f3-8366-9080862e4e83",
   "metadata": {},
   "outputs": [
    {
     "name": "stdout",
     "output_type": "stream",
     "text": [
      "b is not greater than a\n"
     ]
    }
   ],
   "source": [
    "#4\n",
    "a = 95\n",
    "b = 53\n",
    "if b > a:\n",
    "  print(\"b is greater than a\")\n",
    "elif a == b:\n",
    "  print(\"a and b are equal\")\n",
    "else:\n",
    "  print(\"b is not greater than a\")"
   ]
  },
  {
   "cell_type": "code",
   "execution_count": 9,
   "id": "c206c97f-d92b-4528-a86e-13766702226c",
   "metadata": {},
   "outputs": [
    {
     "name": "stdout",
     "output_type": "stream",
     "text": [
      "x and y are equal\n"
     ]
    }
   ],
   "source": [
    "#5\n",
    "x = 111\n",
    "y = 111\n",
    "if y > x:\n",
    "  print(\"x is not greater than y\")\n",
    "elif x == y:\n",
    "  print(\"x and y are equal\")"
   ]
  },
  {
   "cell_type": "code",
   "execution_count": 10,
   "id": "5ff50429-bfb5-405c-94ac-b7ff0e5739e6",
   "metadata": {},
   "outputs": [
    {
     "name": "stdout",
     "output_type": "stream",
     "text": [
      "b is not greater than a\n"
     ]
    }
   ],
   "source": [
    "#6\n",
    "a = 652\n",
    "b = 352\n",
    "if b > a:\n",
    "  print(\"a is not greater than b\")\n",
    "elif a == b:\n",
    "  print(\"a and b are equal\")\n",
    "else:\n",
    "  print(\"b is not greater than a\")"
   ]
  }
 ],
 "metadata": {
  "kernelspec": {
   "display_name": "Python 3 (ipykernel)",
   "language": "python",
   "name": "python3"
  },
  "language_info": {
   "codemirror_mode": {
    "name": "ipython",
    "version": 3
   },
   "file_extension": ".py",
   "mimetype": "text/x-python",
   "name": "python",
   "nbconvert_exporter": "python",
   "pygments_lexer": "ipython3",
   "version": "3.11.7"
  }
 },
 "nbformat": 4,
 "nbformat_minor": 5
}
