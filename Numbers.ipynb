{
 "cells": [
  {
   "cell_type": "code",
   "execution_count": 1,
   "id": "b9e7df25-5321-48c9-a42b-51ce8f3fa1ed",
   "metadata": {},
   "outputs": [],
   "source": [
    "#int\n",
    "#float\n",
    "#complex\n",
    "#Variables of numeric types are created when you assign a value to them:\n",
    "\n",
    "x = 1    # int\n",
    "y = 2.8  # float\n",
    "z = 1j   # complex"
   ]
  },
  {
   "cell_type": "code",
   "execution_count": 2,
   "id": "c20df5f2-804c-4f7d-b9d7-19e39f99a79a",
   "metadata": {},
   "outputs": [
    {
     "name": "stdout",
     "output_type": "stream",
     "text": [
      "<class 'int'>\n",
      "<class 'float'>\n",
      "<class 'complex'>\n"
     ]
    }
   ],
   "source": [
    "print(type(x))\n",
    "print(type(y))\n",
    "print(type(z))"
   ]
  },
  {
   "cell_type": "code",
   "execution_count": 6,
   "id": "d0555f42-e601-472c-bbff-c7a552e6b3bd",
   "metadata": {},
   "outputs": [],
   "source": [
    "#Int\n",
    "#Int, or integer, is a whole number, positive or negative, without decimals, of unlimited length.\n",
    "x = 1\n",
    "y = 35656211\n",
    "z = -3246452455522"
   ]
  },
  {
   "cell_type": "code",
   "execution_count": 7,
   "id": "d2aa97db-ab6d-4396-a6dc-5dc24b1f5e14",
   "metadata": {},
   "outputs": [
    {
     "name": "stdout",
     "output_type": "stream",
     "text": [
      "<class 'int'>\n",
      "<class 'int'>\n",
      "<class 'int'>\n"
     ]
    }
   ],
   "source": [
    "print(type(x))\n",
    "print(type(y))\n",
    "print(type(z))"
   ]
  },
  {
   "cell_type": "code",
   "execution_count": 9,
   "id": "c89cc3bb-20ca-4a85-80dd-f1187753fdab",
   "metadata": {},
   "outputs": [],
   "source": [
    "#Float\n",
    "#Float, or \"floating point number\" is a number, positive or negative, containing one or more decimals.\n",
    "x = 1.1160\n",
    "y = 1.0\n",
    "z = -35.595850"
   ]
  },
  {
   "cell_type": "code",
   "execution_count": 10,
   "id": "4481e45b-d48c-495b-8786-dfcd223d09db",
   "metadata": {},
   "outputs": [
    {
     "name": "stdout",
     "output_type": "stream",
     "text": [
      "<class 'float'>\n",
      "<class 'float'>\n",
      "<class 'float'>\n"
     ]
    }
   ],
   "source": [
    "print(type(x))\n",
    "print(type(y))\n",
    "print(type(z))"
   ]
  },
  {
   "cell_type": "code",
   "execution_count": 11,
   "id": "b3541912-2ecc-4ab7-b625-fd80e367fa8d",
   "metadata": {},
   "outputs": [],
   "source": [
    "#Complex\n",
    "#Complex numbers are written with a \"j\" as the imaginary part:\n",
    "x = 53+5j\n",
    "y = 9j\n",
    "z = -49j"
   ]
  },
  {
   "cell_type": "code",
   "execution_count": 12,
   "id": "9d78ca17-f907-4f63-8978-d857b75f1dd1",
   "metadata": {},
   "outputs": [
    {
     "name": "stdout",
     "output_type": "stream",
     "text": [
      "<class 'complex'>\n",
      "<class 'complex'>\n",
      "<class 'complex'>\n"
     ]
    }
   ],
   "source": [
    "print(type(x))\n",
    "print(type(y))\n",
    "print(type(z))"
   ]
  },
  {
   "cell_type": "code",
   "execution_count": 14,
   "id": "ee5f460e-398c-4ebd-9298-0d751da47ad1",
   "metadata": {},
   "outputs": [],
   "source": [
    "x = 1    # int\n",
    "y = 2.8  # float\n",
    "z = 1j   # complex\n",
    "\n",
    "#convert from int to float:\n",
    "a = float(x)\n",
    "\n",
    "#convert from float to int:\n",
    "b = int(y)\n",
    "\n",
    "#convert from int to complex:\n",
    "c = complex(x)"
   ]
  },
  {
   "cell_type": "code",
   "execution_count": 15,
   "id": "be6874a4-0c3e-4046-91f6-565c8dd3d2e4",
   "metadata": {},
   "outputs": [
    {
     "name": "stdout",
     "output_type": "stream",
     "text": [
      "1.0\n",
      "2\n",
      "(1+0j)\n"
     ]
    }
   ],
   "source": [
    "print(a)\n",
    "print(b)\n",
    "print(c)"
   ]
  },
  {
   "cell_type": "code",
   "execution_count": 16,
   "id": "4cf8f723-9683-46ec-ae91-21bfa8339aa7",
   "metadata": {},
   "outputs": [
    {
     "name": "stdout",
     "output_type": "stream",
     "text": [
      "<class 'float'>\n",
      "<class 'int'>\n",
      "<class 'complex'>\n"
     ]
    }
   ],
   "source": [
    "print(type(a))\n",
    "print(type(b))\n",
    "print(type(c))"
   ]
  },
  {
   "cell_type": "code",
   "execution_count": 20,
   "id": "ebb3fb35-cc35-474a-8c97-98c04807ace8",
   "metadata": {},
   "outputs": [
    {
     "name": "stdout",
     "output_type": "stream",
     "text": [
      "5\n"
     ]
    }
   ],
   "source": [
    "#Random Number\n",
    "#Python does not have a random() function to make a random number.\n",
    "import random\n",
    "print(random.randrange(1, 6))"
   ]
  }
 ],
 "metadata": {
  "kernelspec": {
   "display_name": "Python 3 (ipykernel)",
   "language": "python",
   "name": "python3"
  },
  "language_info": {
   "codemirror_mode": {
    "name": "ipython",
    "version": 3
   },
   "file_extension": ".py",
   "mimetype": "text/x-python",
   "name": "python",
   "nbconvert_exporter": "python",
   "pygments_lexer": "ipython3",
   "version": "3.11.7"
  }
 },
 "nbformat": 4,
 "nbformat_minor": 5
}
