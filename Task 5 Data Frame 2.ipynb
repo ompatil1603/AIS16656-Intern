{
 "cells": [
  {
   "cell_type": "code",
   "execution_count": 1,
   "id": "2358378c-cb3e-47d3-baae-d4d44f2089a6",
   "metadata": {},
   "outputs": [],
   "source": [
    "# DataFrames\n",
    "# Data sets in Pandas are usually multi-dimensional tables, called DataFrames.\n",
    "# Series is like a column, a DataFrame is the whole table."
   ]
  },
  {
   "cell_type": "code",
   "execution_count": 2,
   "id": "1c2d6b1b-cd3f-467a-bf06-f14c9270b62f",
   "metadata": {},
   "outputs": [
    {
     "name": "stdout",
     "output_type": "stream",
     "text": [
      "   calories  duration\n",
      "0       420        50\n",
      "1       380        40\n",
      "2       390        45\n"
     ]
    }
   ],
   "source": [
    "#Example\n",
    "#Create a DataFrame from two Series:\n",
    "\n",
    "import pandas as pd\n",
    "\n",
    "data = {\n",
    "  \"calories\": [420, 380, 390],\n",
    "  \"duration\": [50, 40, 45]\n",
    "}\n",
    "\n",
    "myvar = pd.DataFrame(data)\n",
    "\n",
    "print(myvar)"
   ]
  },
  {
   "cell_type": "code",
   "execution_count": 3,
   "id": "1377651d-431b-4cd8-8e7d-de44d6a972cc",
   "metadata": {},
   "outputs": [
    {
     "name": "stdout",
     "output_type": "stream",
     "text": [
      "   calories  duration\n",
      "0       420        50\n",
      "1       380        40\n",
      "2       390        45\n"
     ]
    }
   ],
   "source": [
    "# Example\n",
    "# Create a DataFrame:\n",
    "import pandas as pd\n",
    "data = {\"calories\": [420, 380, 390],\"duration\": [50, 40, 45]}\n",
    "df = pd.DataFrame(data)\n",
    "print(df) "
   ]
  },
  {
   "cell_type": "code",
   "execution_count": 4,
   "id": "a1f133ae-a4ba-4c7d-ac5d-3e434c3adebd",
   "metadata": {},
   "outputs": [],
   "source": [
    "#Locate Row\n",
    "#Pandas use the loc attribute to return one or more specified row(s)"
   ]
  },
  {
   "cell_type": "code",
   "execution_count": 8,
   "id": "fd537b51-d79e-4a89-9a15-04a76a517472",
   "metadata": {},
   "outputs": [
    {
     "name": "stdout",
     "output_type": "stream",
     "text": [
      "calories    420\n",
      "duration     50\n",
      "Name: 0, dtype: int64\n",
      "calories    380\n",
      "duration     40\n",
      "Name: 1, dtype: int64\n",
      "   calories  duration\n",
      "0       420        50\n",
      "1       380        40\n"
     ]
    }
   ],
   "source": [
    "#Example\n",
    "\n",
    "import pandas as pd\n",
    "\n",
    "data = {\"calories\": [420, 380, 390],\"duration\": [50, 40, 45]}\n",
    "\n",
    "df = pd.DataFrame(data)\n",
    "\n",
    "print(df.loc[0])\n",
    "print(df.loc[1])\n",
    "print(df.loc[[0, 1]])"
   ]
  },
  {
   "cell_type": "markdown",
   "id": "03007b7a-059c-4480-ae0d-1e7f796ab02f",
   "metadata": {},
   "source": [
    "Named Indexes"
   ]
  },
  {
   "cell_type": "code",
   "execution_count": 11,
   "id": "686e3d49-b6f6-44e1-9ff7-fd76499fc258",
   "metadata": {},
   "outputs": [
    {
     "name": "stdout",
     "output_type": "stream",
     "text": [
      "      calories  Duration\n",
      "Day1       420        50\n",
      "Day2       350        65\n",
      "Day3       260        45\n"
     ]
    }
   ],
   "source": [
    "# Example\n",
    "import pandas as pd\n",
    "x={\"calories\":[420,350,260],\"Duration\":[50,65,45]}\n",
    "df=pd.DataFrame(x,index=[\"Day1\",\"Day2\",\"Day3\"])\n",
    "print(df)"
   ]
  },
  {
   "cell_type": "code",
   "execution_count": 13,
   "id": "cf9f535f-b934-4843-93d4-239e9cf62fe2",
   "metadata": {},
   "outputs": [
    {
     "name": "stdout",
     "output_type": "stream",
     "text": [
      "calories    260\n",
      "Duration     45\n",
      "Name: Day3, dtype: int64\n"
     ]
    }
   ],
   "source": [
    "# Locate Named Indexes\n",
    "import pandas as pd\n",
    "x={\"calories\":[420,350,260],\"Duration\":[50,65,45]}\n",
    "df=pd.DataFrame(x,index=[\"Day1\",\"Day2\",\"Day3\"])\n",
    "print(df.loc[\"Day3\"])"
   ]
  },
  {
   "cell_type": "code",
   "execution_count": 17,
   "id": "c059365a-aca8-404b-b478-cdeeb713264a",
   "metadata": {},
   "outputs": [
    {
     "name": "stdout",
     "output_type": "stream",
     "text": [
      "     X   Y\n",
      "0    1  10\n",
      "1    2  12\n",
      "2    3  35\n",
      "3    4  24\n",
      "4    5  26\n",
      "5    6  21\n",
      "6    7  18\n",
      "7    8  15\n",
      "8    9  41\n",
      "9   10  47\n",
      "10  11  45\n",
      "11  12  65\n",
      "12  13  35\n",
      "13  14  25\n",
      "14  15  11\n"
     ]
    }
   ],
   "source": [
    "#Load Files Into a DataFrame\n",
    "#Example\n",
    "#Load a comma separated file (CSV file) into a DataFrame:\n",
    "\n",
    "import pandas as pd\n",
    "\n",
    "df = pd.read_csv('C:/Users/prata/OneDrive/Desktop/AG.csv')\n",
    "\n",
    "print(df) "
   ]
  },
  {
   "cell_type": "code",
   "execution_count": 18,
   "id": "e7f07d56-7afb-4e33-b379-41ec3c9d3634",
   "metadata": {},
   "outputs": [],
   "source": [
    "#Pandas Read CSV\n",
    "#Read CSV Files\n",
    "#A simple way to store big data sets is to use CSV files (comma separated files).\n",
    "#CSV files contains plain text and is a well know format that can be read by everyone including Pandas."
   ]
  },
  {
   "cell_type": "code",
   "execution_count": 1,
   "id": "b3d2414d-936b-4b21-a268-7ea8d3b4f7f3",
   "metadata": {},
   "outputs": [
    {
     "name": "stdout",
     "output_type": "stream",
     "text": [
      "     Duration  Pulse  Maxpulse  Calories\n",
      "0          60    110       130     409.1\n",
      "1          60    117       145     479.0\n",
      "2          60    103       135     340.0\n",
      "3          45    109       175     282.4\n",
      "4          45    117       148     406.0\n",
      "5          60    102       127     300.0\n",
      "6          60    110       136     374.0\n",
      "7          45    104       134     253.3\n",
      "8          30    109       133     195.1\n",
      "9          60     98       124     269.0\n",
      "10         60    103       147     329.3\n",
      "11         60    100       120     250.7\n",
      "12         60    106       128     345.3\n",
      "13         60    104       132     379.3\n",
      "14         60     98       123     275.0\n",
      "15         60     98       120     215.2\n",
      "16         60    100       120     300.0\n",
      "17         45     90       112       NaN\n",
      "18         60    103       123     323.0\n",
      "19         45     97       125     243.0\n",
      "20         60    108       131     364.2\n",
      "21         45    100       119     282.0\n",
      "22         60    130       101     300.0\n",
      "23         45    105       132     246.0\n",
      "24         60    102       126     334.5\n",
      "25         60    100       120     250.0\n",
      "26         60     92       118     241.0\n",
      "27         60    103       132       NaN\n",
      "28         60    100       132     280.0\n",
      "29         60    102       129     380.3\n",
      "30         60     92       115     243.0\n",
      "31         45     90       112     180.1\n",
      "32         60    101       124     299.0\n",
      "33         60     93       113     223.0\n",
      "34         60    107       136     361.0\n",
      "35         60    114       140     415.0\n",
      "36         60    102       127     300.0\n",
      "37         60    100       120     300.0\n",
      "38         60    100       120     300.0\n",
      "39         45    104       129     266.0\n",
      "40         45     90       112     180.1\n",
      "41         60     98       126     286.0\n",
      "42         60    100       122     329.4\n",
      "43         60    111       138     400.0\n",
      "44         60    111       131     397.0\n",
      "45         60     99       119     273.0\n",
      "46         60    109       153     387.6\n",
      "47         45    111       136     300.0\n",
      "48         45    108       129     298.0\n",
      "49         60    111       139     397.6\n",
      "50         60    107       136     380.2\n",
      "51         80    123       146     643.1\n",
      "52         60    106       130     263.0\n",
      "53         60    118       151     486.0\n",
      "54         30    136       175     238.0\n",
      "55         60    121       146     450.7\n",
      "56         60    118       121     413.0\n",
      "57         45    115       144     305.0\n",
      "58         20    153       172     226.4\n",
      "59         45    123       152     321.0\n",
      "60        210    108       160    1376.0\n",
      "61        160    110       137    1034.4\n",
      "62        160    109       135     853.0\n",
      "63         45    118       141     341.0\n",
      "64         20    110       130     131.4\n",
      "65        180     90       130     800.4\n",
      "66        150    105       135     873.4\n",
      "67        150    107       130     816.0\n",
      "68         20    106       136     110.4\n",
      "69        300    108       143    1500.2\n",
      "70        150     97       129    1115.0\n",
      "71         60    109       153     387.6\n",
      "72         90    100       127     700.0\n",
      "73        150     97       127     953.2\n",
      "74         45    114       146     304.0\n",
      "75         90     98       125     563.2\n",
      "76         45    105       134     251.0\n",
      "77         45    110       141     300.0\n",
      "78        120    100       130     500.4\n",
      "79        270    100       131    1729.0\n",
      "80         30    159       182     319.2\n",
      "81         45    149       169     344.0\n",
      "82         30    103       139     151.1\n",
      "83        120    100       130     500.0\n",
      "84         45    100       120     225.3\n",
      "85         30    151       170     300.0\n",
      "86         45    102       136     234.0\n",
      "87        120    100       157    1000.1\n",
      "88         45    129       103     242.0\n",
      "89         20     83       107      50.3\n",
      "90        180    101       127     600.1\n",
      "91         45    107       137       NaN\n",
      "92         30     90       107     105.3\n",
      "93         15     80       100      50.5\n",
      "94         20    150       171     127.4\n",
      "95         20    151       168     229.4\n",
      "96         30     95       128     128.2\n",
      "97         25    152       168     244.2\n",
      "98         30    109       131     188.2\n",
      "99         90     93       124     604.1\n",
      "100        20     95       112      77.7\n",
      "101        90     90       110     500.0\n",
      "102        90     90       100     500.0\n",
      "103        90     90       100     500.4\n",
      "104        30     92       108      92.7\n",
      "105        30     93       128     124.0\n",
      "106       180     90       120     800.3\n",
      "107        30     90       120      86.2\n",
      "108        90     90       120     500.3\n",
      "109       210    137       184    1860.4\n",
      "110        60    102       124     325.2\n",
      "111        45    107       124     275.0\n",
      "112        15    124       139     124.2\n",
      "113        45    100       120     225.3\n",
      "114        60    108       131     367.6\n",
      "115        60    108       151     351.7\n",
      "116        60    116       141     443.0\n",
      "117        60     97       122     277.4\n",
      "118        60    105       125       NaN\n",
      "119        60    103       124     332.7\n",
      "120        30    112       137     193.9\n",
      "121        45    100       120     100.7\n",
      "122        60    119       169     336.7\n",
      "123        60    107       127     344.9\n",
      "124        60    111       151     368.5\n",
      "125        60     98       122     271.0\n",
      "126        60     97       124     275.3\n",
      "127        60    109       127     382.0\n",
      "128        90     99       125     466.4\n",
      "129        60    114       151     384.0\n",
      "130        60    104       134     342.5\n",
      "131        60    107       138     357.5\n",
      "132        60    103       133     335.0\n",
      "133        60    106       132     327.5\n",
      "134        60    103       136     339.0\n",
      "135        20    136       156     189.0\n",
      "136        45    117       143     317.7\n",
      "137        45    115       137     318.0\n",
      "138        45    113       138     308.0\n",
      "139        20    141       162     222.4\n",
      "140        60    108       135     390.0\n",
      "141        60     97       127       NaN\n",
      "142        45    100       120     250.4\n",
      "143        45    122       149     335.4\n",
      "144        60    136       170     470.2\n",
      "145        45    106       126     270.8\n",
      "146        60    107       136     400.0\n",
      "147        60    112       146     361.9\n",
      "148        30    103       127     185.0\n",
      "149        60    110       150     409.4\n",
      "150        60    106       134     343.0\n",
      "151        60    109       129     353.2\n",
      "152        60    109       138     374.0\n",
      "153        30    150       167     275.8\n",
      "154        60    105       128     328.0\n",
      "155        60    111       151     368.5\n",
      "156        60     97       131     270.4\n",
      "157        60    100       120     270.4\n",
      "158        60    114       150     382.8\n",
      "159        30     80       120     240.9\n",
      "160        30     85       120     250.4\n",
      "161        45     90       130     260.4\n",
      "162        45     95       130     270.0\n",
      "163        45    100       140     280.9\n",
      "164        60    105       140     290.8\n",
      "165        60    110       145     300.0\n",
      "166        60    115       145     310.2\n",
      "167        75    120       150     320.4\n",
      "168        75    125       150     330.4\n"
     ]
    }
   ],
   "source": [
    "# Example\n",
    "#Load the CSV into a DataFrame:\n",
    "import pandas as pd\n",
    "df = pd.read_csv('C:/Users/prata/OneDrive/Desktop/AA.csv')\n",
    "print(df.to_string())"
   ]
  },
  {
   "cell_type": "code",
   "execution_count": 20,
   "id": "24dc3746-9613-4544-b0d7-5a7f1b0e96a2",
   "metadata": {},
   "outputs": [],
   "source": [
    "# max_rows\n",
    "# The number of rows returned is defined in Pandas option settings.\n",
    "# maximum rows with the pd.options.display.max_rows statement."
   ]
  },
  {
   "cell_type": "code",
   "execution_count": 25,
   "id": "6341f07f-18a7-4478-8c63-1f64d54a114f",
   "metadata": {},
   "outputs": [
    {
     "name": "stdout",
     "output_type": "stream",
     "text": [
      "60\n"
     ]
    }
   ],
   "source": [
    "#Example\n",
    "#Check the number of maximum returned rows:\n",
    "import pandas as pd\n",
    "print(pd.options.display.max_rows)"
   ]
  },
  {
   "cell_type": "code",
   "execution_count": 2,
   "id": "6ad06406-fbcf-428a-a859-d19435405dae",
   "metadata": {},
   "outputs": [
    {
     "name": "stdout",
     "output_type": "stream",
     "text": [
      "     Duration  Pulse  Maxpulse  Calories\n",
      "0          60    110       130     409.1\n",
      "1          60    117       145     479.0\n",
      "2          60    103       135     340.0\n",
      "3          45    109       175     282.4\n",
      "4          45    117       148     406.0\n",
      "..        ...    ...       ...       ...\n",
      "164        60    105       140     290.8\n",
      "165        60    110       145     300.0\n",
      "166        60    115       145     310.2\n",
      "167        75    120       150     320.4\n",
      "168        75    125       150     330.4\n",
      "\n",
      "[169 rows x 4 columns]\n"
     ]
    }
   ],
   "source": [
    "# Example\n",
    "# Increase the maximum number of rows to display the entire DataFrame:\n",
    "import pandas as pd\n",
    "\n",
    "pd.options.display.max_rows = 100\n",
    "\n",
    "df = pd.read_csv('C:/Users/prata/OneDrive/Desktop/AA.csv')\n",
    "\n",
    "print(df) \n"
   ]
  },
  {
   "cell_type": "code",
   "execution_count": 4,
   "id": "55561f63-8015-40dd-8337-09b6091df776",
   "metadata": {},
   "outputs": [
    {
     "name": "stdout",
     "output_type": "stream",
     "text": [
      "     Duration  Pulse  Maxpulse  Calories\n",
      "0          60    110       130     409.1\n",
      "1          60    117       145     479.0\n",
      "2          60    103       135     340.0\n",
      "3          45    109       175     282.4\n",
      "4          45    117       148     406.0\n",
      "..        ...    ...       ...       ...\n",
      "164        60    105       140     290.8\n",
      "165        60    110       145     300.0\n",
      "166        60    115       145     310.2\n",
      "167        75    120       150     320.4\n",
      "168        75    125       150     330.4\n",
      "\n",
      "[169 rows x 4 columns]\n"
     ]
    }
   ],
   "source": [
    "# Example\n",
    "#Load the Xlsx into a DataFrame:\n",
    "\n",
    "import pandas as pd\n",
    "\n",
    "df = pd.read_excel('C:/Users/prata/OneDrive/Desktop/AG.xlsx')\n",
    "\n",
    "print(df)"
   ]
  },
  {
   "cell_type": "code",
   "execution_count": 5,
   "id": "ad919730-2b57-4c1f-95f2-284d8a191c7b",
   "metadata": {},
   "outputs": [
    {
     "name": "stdout",
     "output_type": "stream",
     "text": [
      "   Id   Names  Age\n",
      "0   1   Rahul   22\n",
      "1   2  Akshay   26\n",
      "2   3   Akash   24\n"
     ]
    }
   ],
   "source": [
    "# Data frame using matrix\n",
    "import pandas as pd\n",
    "matrix_data=[[1,\"Rahul\",22],[2,\"Akshay\",26],[3,\"Akash\",24]]\n",
    "col_names=[\"Id\",\"Names\",\"Age\"]\n",
    "df_matrix=pd.DataFrame(matrix_data,columns=col_names)\n",
    "print(df_matrix)"
   ]
  },
  {
   "cell_type": "code",
   "execution_count": 7,
   "id": "3e5a2888-0550-48f8-a692-8cd33b286e2e",
   "metadata": {},
   "outputs": [
    {
     "name": "stdout",
     "output_type": "stream",
     "text": [
      "   Id   Names  Age\n",
      "0   1   Rahul   22\n",
      "1   2  Akshay   26\n",
      "2   3   Akash   24\n"
     ]
    }
   ],
   "source": [
    "# Data frame using dictionary\n",
    "import pandas as pd\n",
    "dict_data={'Id':[1,2,3],'Names':['Rahul','Akshay','Akash'],'Age':[22,26,24]}\n",
    "df_dict=pd.DataFrame(dict_data)\n",
    "print(df_dict)"
   ]
  },
  {
   "cell_type": "markdown",
   "id": "4b6204d6-a7ee-4e2f-83fc-904d72d3628b",
   "metadata": {},
   "source": [
    "Data Science - Python DataFrame\n",
    "Create a DataFrame with Pandas\n",
    "A data frame is a structured representation of data.\n",
    "Let's define a data frame with 3 columns and 5 rows with fictional numbers."
   ]
  },
  {
   "cell_type": "code",
   "execution_count": 2,
   "id": "677f8b3f-351b-4577-a5ef-3b0337a3395b",
   "metadata": {},
   "outputs": [
    {
     "name": "stdout",
     "output_type": "stream",
     "text": [
      "   col1  col2  col3\n",
      "0     4    15    34\n",
      "1     6    19    29\n",
      "2     9    24    20\n",
      "3    16    27    39\n",
      "4    19    29    20\n"
     ]
    }
   ],
   "source": [
    "import pandas as pd\n",
    "\n",
    "d = {'col1': [4,6,9,16,19], 'col2': [15,19,24,27,29], 'col3': [34,29,20,39,20]}\n",
    "\n",
    "df = pd.DataFrame(data=d)\n",
    "\n",
    "print(df)"
   ]
  },
  {
   "cell_type": "code",
   "execution_count": 3,
   "id": "c1ea9b47-5024-4bc9-9691-fb85bf0b7cde",
   "metadata": {},
   "outputs": [
    {
     "name": "stdout",
     "output_type": "stream",
     "text": [
      "    A   B   C\n",
      "0   3   6   7\n",
      "1   9  13  15\n",
      "2  21  25  27\n"
     ]
    }
   ],
   "source": [
    "import pandas as pd\n",
    "\n",
    "# Creating a matrix as a list of lists\n",
    "matrix = [\n",
    "    [3,6,7],\n",
    "    [9,13,15],\n",
    "    [21,25,27]\n",
    "]\n",
    "\n",
    "# Creating a DataFrame from the matrix\n",
    "df = pd.DataFrame(matrix, columns=['A', 'B', 'C'])\n",
    "print(df)"
   ]
  },
  {
   "cell_type": "code",
   "execution_count": 4,
   "id": "1f2b4e33-0690-42a9-9636-4410b425ddbd",
   "metadata": {},
   "outputs": [
    {
     "name": "stdout",
     "output_type": "stream",
     "text": [
      "3\n"
     ]
    }
   ],
   "source": [
    "count_column = df.shape[1]\n",
    "print(count_column)"
   ]
  },
  {
   "cell_type": "code",
   "execution_count": 5,
   "id": "d670dc41-cd88-427f-a7ce-406def1bd4f3",
   "metadata": {},
   "outputs": [
    {
     "name": "stdout",
     "output_type": "stream",
     "text": [
      "3\n"
     ]
    }
   ],
   "source": [
    "count_row = df.shape[0]\n",
    "print(count_row)"
   ]
  },
  {
   "cell_type": "code",
   "execution_count": 6,
   "id": "9b678060-0cc8-442f-9aec-20a683000209",
   "metadata": {},
   "outputs": [
    {
     "name": "stdout",
     "output_type": "stream",
     "text": [
      "[[0.         6.40312424 9.38083152]\n",
      " [6.40312424 0.         3.        ]\n",
      " [9.38083152 3.         0.        ]]\n"
     ]
    }
   ],
   "source": [
    "import pandas as pd\n",
    "from scipy.spatial.distance import pdist, squareform\n",
    "\n",
    "# Creating a matrix as a list of lists\n",
    "df = pd.DataFrame({\n",
    "   'A': [3,6,7],\n",
    "   'B': [9,13,15],\n",
    "   'C': [21,25,27]\n",
    "})\n",
    "\n",
    "# Calculate pairwise Euclidean distances between rows\n",
    "row_distances = pdist(df.values, metric='euclidean')\n",
    "\n",
    "# Convert to a square matrix form\n",
    "row_distance_matrix = squareform(row_distances)\n",
    "print(row_distance_matrix)"
   ]
  },
  {
   "cell_type": "code",
   "execution_count": 7,
   "id": "4a7cdc81-3593-41b4-a9c6-804f395f99d2",
   "metadata": {},
   "outputs": [
    {
     "name": "stdout",
     "output_type": "stream",
     "text": [
      "[[0.         0.00583692 0.00930363]\n",
      " [0.00583692 0.         0.00044815]\n",
      " [0.00930363 0.00044815 0.        ]]\n"
     ]
    }
   ],
   "source": [
    "# Calculate pairwise cosine distances between rows\n",
    "row_cosine_distances = pdist(df.values, metric='cosine')\n",
    "\n",
    "# Convert to a square matrix form\n",
    "row_cosine_distance_matrix = squareform(row_cosine_distances)\n",
    "print(row_cosine_distance_matrix)"
   ]
  }
 ],
 "metadata": {
  "kernelspec": {
   "display_name": "Python 3 (ipykernel)",
   "language": "python",
   "name": "python3"
  },
  "language_info": {
   "codemirror_mode": {
    "name": "ipython",
    "version": 3
   },
   "file_extension": ".py",
   "mimetype": "text/x-python",
   "name": "python",
   "nbconvert_exporter": "python",
   "pygments_lexer": "ipython3",
   "version": "3.11.7"
  }
 },
 "nbformat": 4,
 "nbformat_minor": 5
}
