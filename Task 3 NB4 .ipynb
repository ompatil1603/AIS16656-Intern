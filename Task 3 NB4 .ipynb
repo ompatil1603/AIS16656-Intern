{
 "cells": [
  {
   "cell_type": "markdown",
   "id": "8b342706-26f4-49bc-a12b-8c996a34aa54",
   "metadata": {},
   "source": [
    "Mean\r\n",
    "The mean is usually referred to as 'the average'\r\n",
    "\r\n",
    "The mean is the sum of all the values in the data divided by the total number of values in the daa.\r\n",
    "\r\n",
    "The mean is calculated for numerical variables. A variable is something in the data that can vary,like:\r\n",
    "\r\n",
    "Age\r\n",
    "Height\r\n",
    "Incomenumber of values:"
   ]
  },
  {
   "cell_type": "code",
   "execution_count": 3,
   "id": "9374df24-be63-44f7-83d1-4fd7d6cc4a65",
   "metadata": {},
   "outputs": [
    {
     "name": "stdout",
     "output_type": "stream",
     "text": [
      "9.0\n"
     ]
    }
   ],
   "source": [
    "#1\n",
    "import numpy\n",
    "\n",
    "values = [4,11,7,14]\n",
    "\n",
    "x = numpy.mean(values)\n",
    "\n",
    "print(x)"
   ]
  },
  {
   "cell_type": "markdown",
   "id": "d30128d3-ac6e-48c1-988c-72a215a26519",
   "metadata": {},
   "source": [
    "Median\r\n",
    "The median is the middle value in a data set ordered from low to high\r\n",
    "\r\n",
    "Finding the Median\r\n",
    "The median can only be calculated for numerical variablesd.\r\n",
    "\r\n"
   ]
  },
  {
   "cell_type": "code",
   "execution_count": 6,
   "id": "9087d50a-83c9-4612-9213-6d6cf879c215",
   "metadata": {},
   "outputs": [
    {
     "name": "stdout",
     "output_type": "stream",
     "text": [
      "51.0\n"
     ]
    }
   ],
   "source": [
    "import numpy\n",
    "\n",
    "values = [9,15,28,36,45,57,63,75,86,93]\n",
    "\n",
    "x = numpy.median(values)\n",
    "\n",
    "print(x)"
   ]
  },
  {
   "cell_type": "markdown",
   "id": "ce1c0a78-6b88-4cdc-89bb-b59527108e68",
   "metadata": {},
   "source": [
    "Mode\r\n",
    "The mode is the value(s) that are the most common in the data.\r\n",
    "\r\n",
    "A dataset can have multiple values that are modes.\r\n",
    "\r\n",
    "A distribution of values with only one mode is called unimodal.\r\n",
    "\r\n",
    "A distribution of values with two modes is called bimodal. In general, a distribution with more than one mode is called multimodal.\r\n",
    "\r\n",
    "Mode can be found for both categorical and numerical data."
   ]
  },
  {
   "cell_type": "code",
   "execution_count": 7,
   "id": "9fc48782-b6d0-43a0-b290-147697a17c58",
   "metadata": {},
   "outputs": [
    {
     "name": "stdout",
     "output_type": "stream",
     "text": [
      "[12, 23]\n"
     ]
    }
   ],
   "source": [
    "from statistics import multimode\n",
    "\n",
    "values = [2,6,8,10,12,12,15,16,18,17,19,21,22,23,23]\n",
    "\n",
    "x = multimode(values)\n",
    "\n",
    "print(x)"
   ]
  },
  {
   "cell_type": "markdown",
   "id": "f103f6e9-b75a-4347-aa75-90e201efff93",
   "metadata": {},
   "source": [
    "The Variation of the Data\n",
    "Measures of variation are statistics of how far away the values in the observations (data points) are from each other.\n",
    "\n",
    "There are different measures of variation. The most commonly used are:\n",
    "\n",
    "Range\n",
    "Quartiles and Percentiles\n",
    "Interquartile Range\n",
    "Standard Deviation\n",
    "Measures of variation combined with an average (measure of center) gives a good picture of the distribution of the data.\n",
    "\n",
    "Note: These measures of variation can only be calculated for numerical data."
   ]
  },
  {
   "cell_type": "code",
   "execution_count": 3,
   "id": "337f9b4b-e7da-43de-bd26-f763e7fabe5d",
   "metadata": {},
   "outputs": [
    {
     "name": "stdout",
     "output_type": "stream",
     "text": [
      "59\n"
     ]
    }
   ],
   "source": [
    "#Range\n",
    "#The range is the difference between the smallest and the largest value of the data.\n",
    "#Range is the simplest measure of variation.\n",
    "#Here is a histogram of the age of all 934 Nobel Prize winners up to the year 2020, showing the range\n",
    "#From statistics import range\n",
    "\n",
    "import numpy\n",
    "values = [13,21,21,40,48,55,72]\n",
    "x = numpy.ptp(values)\n",
    "print(x)"
   ]
  },
  {
   "cell_type": "code",
   "execution_count": 4,
   "id": "3946eb56-7ffd-40dd-9ba6-a3a7a58ba09f",
   "metadata": {},
   "outputs": [
    {
     "name": "stdout",
     "output_type": "stream",
     "text": [
      "28.75\n"
     ]
    }
   ],
   "source": [
    "#Interquartile Range\n",
    "#Interquartile range is the difference between the first and third quartiles (Q1 and Q3).\n",
    "#The 'middle half' of the data is between the first and third quartile.\n",
    "#The first quartile is the value in the data that separates the bottom 25% of values from the top 75%.\n",
    "#The third quartile is the value in the data that separates the bottom 75% of the values from the top 25%\n",
    "#Here is a histogram of the age of all 934 Nobel Prize winners up to the year 2020, showing the interquartile range (IQR)\n",
    "\n",
    "from scipy import stats\n",
    "values = [13,21,21,40,42,48,55,72]\n",
    "x = stats.iqr(values)\n",
    "print(x)"
   ]
  },
  {
   "cell_type": "code",
   "execution_count": 5,
   "id": "898750b1-7399-4d97-8810-1ea3fdd7ae0b",
   "metadata": {},
   "outputs": [
    {
     "name": "stdout",
     "output_type": "stream",
     "text": [
      "3.8078865529319543\n"
     ]
    }
   ],
   "source": [
    "#Standard Deviation\n",
    "#Standard deviation (σ) measures how far a 'typical' observation is from the average of the data (μ).\n",
    "#Standard deviation is important for many statistical methods.\n",
    "import numpy\n",
    "\n",
    "values = [4,11,7,14]\n",
    "x = numpy.std(values)\n",
    "print(x)"
   ]
  },
  {
   "cell_type": "code",
   "execution_count": 12,
   "id": "fc797aaa-1df8-46d3-8fc1-dc7d82a2ab1a",
   "metadata": {},
   "outputs": [
    {
     "name": "stdout",
     "output_type": "stream",
     "text": [
      "The mean of list is 30.0\n"
     ]
    }
   ],
   "source": [
    "def cal_mean(num):\n",
    "    if len(num)==0:\n",
    "       return(0)\n",
    "    mean=sum(num)/len(num)\n",
    "    return(mean)\n",
    "num=(10,20,30,40,50)\n",
    "mean=cal_mean(num)\n",
    "print(\"The mean of list is\",mean)"
   ]
  },
  {
   "cell_type": "code",
   "execution_count": 22,
   "id": "dacaf26a-7036-46b2-81a8-8f8b659483dc",
   "metadata": {},
   "outputs": [
    {
     "name": "stdout",
     "output_type": "stream",
     "text": [
      "The median of [4, 6, 6, 61, 216, 415, 612] is 61.\n"
     ]
    }
   ],
   "source": [
    "def calculate_median(l):\n",
    "    \"\"\"Calculate the median of a list of numbers.\"\"\"\n",
    "    l.sort()\n",
    "    n = len(l)\n",
    "    mid = n // 2\n",
    "    if n % 2 == 0:  # even number of elements\n",
    "        median = (l[mid - 1] + l[mid]) / 2\n",
    "    else:  # odd number of elements\n",
    "        median = l[mid]\n",
    "    return median\n",
    "l = [6,216,61,4,6,612,415]\n",
    "median = calculate_median(l)\n",
    "print(f\"The median of {l} is {median}.\")"
   ]
  }
 ],
 "metadata": {
  "kernelspec": {
   "display_name": "Python 3 (ipykernel)",
   "language": "python",
   "name": "python3"
  },
  "language_info": {
   "codemirror_mode": {
    "name": "ipython",
    "version": 3
   },
   "file_extension": ".py",
   "mimetype": "text/x-python",
   "name": "python",
   "nbconvert_exporter": "python",
   "pygments_lexer": "ipython3",
   "version": "3.11.7"
  }
 },
 "nbformat": 4,
 "nbformat_minor": 5
}
