{
 "cells": [
  {
   "cell_type": "markdown",
   "id": "8b342706-26f4-49bc-a12b-8c996a34aa54",
   "metadata": {},
   "source": [
    "Mean\r\n",
    "The mean is usually referred to as 'the average'\r\n",
    "\r\n",
    "The mean is the sum of all the values in the data divided by the total number of values in the daa.\r\n",
    "\r\n",
    "The mean is calculated for numerical variables. A variable is something in the data that can vary,like:\r\n",
    "\r\n",
    "Age\r\n",
    "Height\r\n",
    "Incomenumber of values:"
   ]
  },
  {
   "cell_type": "markdown",
   "id": "d30128d3-ac6e-48c1-988c-72a215a26519",
   "metadata": {},
   "source": [
    "Median\r\n",
    "The median is the middle value in a data set ordered from low to high\r\n",
    "\r\n",
    "Finding the Median\r\n",
    "The median can only be calculated for numerical variablesd.\r\n",
    "\r\n"
   ]
  },
  {
   "cell_type": "markdown",
   "id": "ce1c0a78-6b88-4cdc-89bb-b59527108e68",
   "metadata": {},
   "source": [
    "Mode\r\n",
    "The mode is the value(s) that are the most common in the data.\r\n",
    "\r\n",
    "A dataset can have multiple values that are modes.\r\n",
    "\r\n",
    "A distribution of values with only one mode is called unimodal.\r\n",
    "\r\n",
    "A distribution of values with two modes is called bimodal. In general, a distribution with more than one mode is called multimodal.\r\n",
    "\r\n",
    "Mode can be found for both categorical and numerical data."
   ]
  },
  {
   "cell_type": "code",
   "execution_count": 7,
   "id": "9fc48782-b6d0-43a0-b290-147697a17c58",
   "metadata": {},
   "outputs": [
    {
     "name": "stdout",
     "output_type": "stream",
     "text": [
      "[12, 23]\n"
     ]
    }
   ],
   "source": [
    "from statistics import multimode\n",
    "\n",
    "values = [2,6,8,10,12,12,15,16,18,17,19,21,22,23,23]\n",
    "\n",
    "x = multimode(values)\n",
    "\n",
    "print(x)"
   ]
  },
  {
   "cell_type": "markdown",
   "id": "f103f6e9-b75a-4347-aa75-90e201efff93",
   "metadata": {},
   "source": [
    "The Variation of the Data\n",
    "Measures of variation are statistics of how far away the values in the observations (data points) are from each other.\n",
    "\n",
    "There are different measures of variation. The most commonly used are:\n",
    "\n",
    "Range\n",
    "Quartiles and Percentiles\n",
    "Interquartile Range\n",
    "Standard Deviation\n",
    "Measures of variation combined with an average (measure of center) gives a good picture of the distribution of the data.\n",
    "\n",
    "Note: These measures of variation can only be calculated for numerical data."
   ]
  },
  {
   "cell_type": "markdown",
   "id": "97a932d6-d1cb-4542-b505-6e801a9ad02d",
   "metadata": {},
   "source": [
    "Range\n",
    "The range is the difference between the smallest and the largest value of the data.\n",
    "Range is the simplest measure of variation.\n",
    "Here is a histogram of the age of all 934 Nobel Prize winners up to the year 2020, showing the range\n",
    "From statistics import range\n"
   ]
  },
  {
   "cell_type": "code",
   "execution_count": 4,
   "id": "3946eb56-7ffd-40dd-9ba6-a3a7a58ba09f",
   "metadata": {},
   "outputs": [
    {
     "name": "stdout",
     "output_type": "stream",
     "text": [
      "28.75\n"
     ]
    }
   ],
   "source": [
    "#Interquartile Range\n",
    "#Interquartile range is the difference between the first and third quartiles (Q1 and Q3).\n",
    "#The 'middle half' of the data is between the first and third quartile.\n",
    "#The first quartile is the value in the data that separates the bottom 25% of values from the top 75%.\n",
    "#The third quartile is the value in the data that separates the bottom 75% of the values from the top 25%\n",
    "#Here is a histogram of the age of all 934 Nobel Prize winners up to the year 2020, showing the interquartile range (IQR)\n",
    "\n",
    "from scipy import stats\n",
    "values = [13,21,21,40,42,48,55,72]\n",
    "x = stats.iqr(values)\n",
    "print(x)"
   ]
  },
  {
   "cell_type": "markdown",
   "id": "e6e66d08-a0da-4438-a1e1-27ce584f803a",
   "metadata": {},
   "source": [
    "Standard Deviation\n",
    "Standard deviation (σ) measures how far a 'typical' observation is from the average of the data (μ).\n",
    "Standard deviation is important for many statistical methods.\n"
   ]
  },
  {
   "cell_type": "code",
   "execution_count": 22,
   "id": "fc797aaa-1df8-46d3-8fc1-dc7d82a2ab1a",
   "metadata": {},
   "outputs": [
    {
     "name": "stdout",
     "output_type": "stream",
     "text": [
      "The mean of list is 10.0\n"
     ]
    }
   ],
   "source": [
    "def cal_mean(num):\n",
    "    if len(num)==0:\n",
    "       return(0)\n",
    "    mean=sum(num)/len(num)\n",
    "    return(mean)\n",
    "num=(6,9,12,13)\n",
    "mean=cal_mean(num)\n",
    "print(\"The mean of list is\",mean)"
   ]
  },
  {
   "cell_type": "code",
   "execution_count": 23,
   "id": "dacaf26a-7036-46b2-81a8-8f8b659483dc",
   "metadata": {},
   "outputs": [
    {
     "name": "stdout",
     "output_type": "stream",
     "text": [
      "The median of [6, 9, 12, 13] is 10.5.\n"
     ]
    }
   ],
   "source": [
    "def calculate_median(l):\n",
    "    \"\"\"Calculate the median of a list of numbers.\"\"\"\n",
    "    l.sort()\n",
    "    n = len(l)\n",
    "    mid = n // 2\n",
    "    if n % 2 == 0:  # even number of elements\n",
    "        median = (l[mid - 1] + l[mid]) / 2\n",
    "    else:  # odd number of elements\n",
    "        median = l[mid]\n",
    "    return median\n",
    "l = [6,9,12,13]\n",
    "median = calculate_median(l)\n",
    "print(f\"The median of {l} is {median}.\")"
   ]
  },
  {
   "cell_type": "code",
   "execution_count": 29,
   "id": "fbf5e753-760c-44de-be25-f1cc58c67a24",
   "metadata": {},
   "outputs": [
    {
     "name": "stdout",
     "output_type": "stream",
     "text": [
      "mode: 12\n"
     ]
    }
   ],
   "source": [
    "from collections import Counter\n",
    "def calculate_mode(l):\n",
    "    \"\"\"Calculate the mode of a list of numbers.\"\"\"\n",
    "    if not l:\n",
    "        return None\n",
    "    \n",
    "    count = Counter(l)\n",
    "    max_frequency = max(count.values())\n",
    "    modes = [num for num, freq in count.items() if freq == max_frequency]\n",
    "\n",
    "    if len(modes) == 1:\n",
    "        return modes[0]  # Return the single mode\n",
    "    return modes  # Return a list of modes if there are multiple\n",
    "\n",
    "# Example usage\n",
    "l = [6,9,12,12,13]\n",
    "mode = calculate_mode(l)\n",
    "print(\"mode:\",mode)"
   ]
  },
  {
   "cell_type": "code",
   "execution_count": 27,
   "id": "23226e66-9332-47be-9df4-1c946a25d1fa",
   "metadata": {},
   "outputs": [
    {
     "name": "stdout",
     "output_type": "stream",
     "text": [
      "Range 7\n"
     ]
    }
   ],
   "source": [
    "#range \n",
    "def cal_range(l):\n",
    "    min_value=min(l)\n",
    "    max_value=max(l)\n",
    "    return max_value - min_value\n",
    "l=[6,9,12,13]\n",
    "range=cal_range(l)\n",
    "print(\"Range\",range)"
   ]
  },
  {
   "cell_type": "code",
   "execution_count": 28,
   "id": "77b1f502-2345-4d8c-895c-506a44bbc881",
   "metadata": {},
   "outputs": [
    {
     "name": "stdout",
     "output_type": "stream",
     "text": [
      "The variance of [6, 9, 12, 13] is 7.50.\n"
     ]
    }
   ],
   "source": [
    "def calculate_variance(l):\n",
    "    \"\"\"Calculate the variance of a list of numbers.\"\"\"\n",
    "    if not l:\n",
    "        return 0\n",
    "    mean = sum(l) / len(l)\n",
    "    sd = [(x - mean) ** 2 for x in l]\n",
    "    v = sum(sd) / len(l)\n",
    "    return v\n",
    "    \n",
    "l = [6,9,12,13]\n",
    "variance = calculate_variance(l)\n",
    "print(f\"The variance of {l} is {variance:.2f}.\")"
   ]
  },
  {
   "cell_type": "code",
   "execution_count": 6,
   "id": "06255e5e-1223-443b-8e67-561f6bad294e",
   "metadata": {},
   "outputs": [
    {
     "name": "stdout",
     "output_type": "stream",
     "text": [
      "Sd: 2.7386127875258306\n"
     ]
    }
   ],
   "source": [
    "# Standard deviation\n",
    "def cal_sd(l):\n",
    "    if len(l)==0:\n",
    "       return(0)\n",
    "    mean=sum(l)/len(l)\n",
    "    s=[(x-mean)**2 for x in l]\n",
    "    var=sum(s)/len(l)\n",
    "    sd=var**0.5\n",
    "    return(sd)\n",
    "l=[6,9,12,13]\n",
    "sd=cal_sd(l)\n",
    "print(\"Sd:\",sd)"
   ]
  },
  {
   "cell_type": "code",
   "execution_count": 2,
   "id": "afe2a4ad-32b4-40f8-9e39-d8caea76504f",
   "metadata": {},
   "outputs": [
    {
     "name": "stdout",
     "output_type": "stream",
     "text": [
      "Covariance: 2.3499999999999996\n"
     ]
    }
   ],
   "source": [
    "def covariance(X,Y):\n",
    "    n = len(X)\n",
    "    mean_X = sum(X)/n\n",
    "    mean_Y = sum(Y)/n\n",
    "    \n",
    "    cov = sum((X[i] - mean_X) * (Y[i] - mean_Y) for i in range(n)) / (n - 1)\n",
    "    return cov\n",
    "\n",
    "# Example\n",
    "X = [4,5,6,7,5]\n",
    "Y = [11,12,14,17,15]\n",
    "cov=covariance(X,Y)\n",
    "print(\"Covariance:\", cov)"
   ]
  },
  {
   "cell_type": "code",
   "execution_count": 3,
   "id": "b2f8033a-c877-4b1f-8a03-4085b7bc5185",
   "metadata": {},
   "outputs": [
    {
     "name": "stdout",
     "output_type": "stream",
     "text": [
      "Correlation: 0.09464487350821967\n"
     ]
    }
   ],
   "source": [
    "#correlation\n",
    "def correlation(X,Y):\n",
    "    n=len(X)\n",
    "    mean_X = sum(X)/n\n",
    "    mean_Y = sum(Y)/n\n",
    "    a=sum((X[i]-mean_X)*(Y[i]-mean_Y) for i in range(n)) / (n - 1)\n",
    "    b= (sum((x-mean_X)**2 for x in X)*(sum((y-mean_Y)**2 for y in Y))**0.5)\n",
    "    corr=a/b\n",
    "    return corr\n",
    "X = [4,5,6,7,5]\n",
    "Y = [11,12,14,17,15]\n",
    "corr=correlation(X,Y)\n",
    "print(\"Correlation:\",corr)"
   ]
  },
  {
   "cell_type": "code",
   "execution_count": 7,
   "id": "267ecf7e-361a-47eb-b315-89db59bab29c",
   "metadata": {},
   "outputs": [
    {
     "name": "stdout",
     "output_type": "stream",
     "text": [
      "Skewness: -0.3651483716701107\n"
     ]
    }
   ],
   "source": [
    "# Skewness\n",
    "def skewness(l):\n",
    "    n=len(l)\n",
    "    mean=sum(l)/n\n",
    "    a=sum((x-mean)**3 for x in l)/n\n",
    "    b=(sum((x-mean)**2 for x in l)/n)**(3/2)\n",
    "    skew=a/b\n",
    "    return(skew)\n",
    "l=[6,9,12,13]\n",
    "skew=skewness(l)\n",
    "print(\"Skewness:\",skew)"
   ]
  },
  {
   "cell_type": "code",
   "execution_count": 8,
   "id": "58a4c1db-4810-4c0a-8524-6b85c383a799",
   "metadata": {},
   "outputs": [
    {
     "name": "stdout",
     "output_type": "stream",
     "text": [
      "Kurtosis: -1.4266666666666667\n"
     ]
    }
   ],
   "source": [
    "#Kurtosis\n",
    "def kurtosis(l):\n",
    "    n=len(l)\n",
    "    mean=sum(l)/n\n",
    "    a=sum((x-mean)**4 for x in l)/n\n",
    "    b=(sum((x-mean)**2 for x in l)/n)**2\n",
    "    kurt=(a/b)-3\n",
    "    return(kurt)\n",
    "l=[6,9,12,13]\n",
    "kurt=kurtosis(l)\n",
    "print(\"Kurtosis:\",kurt)"
   ]
  }
 ],
 "metadata": {
  "kernelspec": {
   "display_name": "Python 3 (ipykernel)",
   "language": "python",
   "name": "python3"
  },
  "language_info": {
   "codemirror_mode": {
    "name": "ipython",
    "version": 3
   },
   "file_extension": ".py",
   "mimetype": "text/x-python",
   "name": "python",
   "nbconvert_exporter": "python",
   "pygments_lexer": "ipython3",
   "version": "3.11.7"
  }
 },
 "nbformat": 4,
 "nbformat_minor": 5
}
