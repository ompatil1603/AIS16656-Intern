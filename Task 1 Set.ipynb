{
 "cells": [
  {
   "cell_type": "code",
   "execution_count": 1,
   "id": "466ac7c6-4828-4aeb-8ff1-665f27436411",
   "metadata": {},
   "outputs": [
    {
     "name": "stdout",
     "output_type": "stream",
     "text": [
      "{'banana', 'apple', 'mango', 'cherry'}\n"
     ]
    }
   ],
   "source": [
    "#Set\n",
    "#Sets are used to store multiple items in a single variable.\n",
    "thisset = {\"apple\", \"banana\", \"cherry\",\"mango\"}\n",
    "print(thisset)"
   ]
  },
  {
   "cell_type": "code",
   "execution_count": 2,
   "id": "27737ac4-1dfb-4c0d-9f40-4cfbea48d0ca",
   "metadata": {},
   "outputs": [
    {
     "name": "stdout",
     "output_type": "stream",
     "text": [
      "{'banana', 'mango', 'apple', 'cherry'}\n"
     ]
    }
   ],
   "source": [
    "#Duplicates Not Allowed\n",
    "#Sets cannot have two items with the same value.\n",
    "thisset = {\"apple\", \"banana\", \"cherry\", \"apple\",\"mango\"}\n",
    "print(thisset)"
   ]
  },
  {
   "cell_type": "code",
   "execution_count": 6,
   "id": "ac6ca463-a26e-4351-abde-d166aeef2d06",
   "metadata": {},
   "outputs": [
    {
     "name": "stdout",
     "output_type": "stream",
     "text": [
      "{False, True, 2, 'cherry', 5, 8, 'mango', 'banana', 'apple'}\n"
     ]
    }
   ],
   "source": [
    "thisset = {\"apple\", \"banana\",\"mango\", \"cherry\", True,False, 1, 2,5,8,0}\n",
    "print(thisset)"
   ]
  },
  {
   "cell_type": "code",
   "execution_count": 7,
   "id": "f2d1c008-427c-489d-bda3-2be826cafbd1",
   "metadata": {},
   "outputs": [
    {
     "name": "stdout",
     "output_type": "stream",
     "text": [
      "9\n"
     ]
    }
   ],
   "source": [
    "print(len(thisset))"
   ]
  },
  {
   "cell_type": "code",
   "execution_count": null,
   "id": "397b1a98-63f8-40e6-9115-132016ac24dd",
   "metadata": {},
   "outputs": [],
   "source": [
    "set1 = {\"apple\", \"banana\", \"cherry\"}\n",
    "set2 = {1, 5, 7, 9, 3}\n",
    "set3 = {True, False, False}"
   ]
  },
  {
   "cell_type": "code",
   "execution_count": 12,
   "id": "00360edb-459b-49d2-8b6a-02016c43bd5b",
   "metadata": {},
   "outputs": [
    {
     "name": "stdout",
     "output_type": "stream",
     "text": [
      "{True, 34, 'male', 'abc', 40}\n"
     ]
    }
   ],
   "source": [
    "print(set1)"
   ]
  },
  {
   "cell_type": "code",
   "execution_count": 13,
   "id": "bf4fdc7e-b0bd-495c-a805-f8ff6a26f23a",
   "metadata": {},
   "outputs": [],
   "source": [
    "set1 = {\"abc\", 34, True, 40, \"male\"}"
   ]
  },
  {
   "cell_type": "code",
   "execution_count": 14,
   "id": "a5a40dab-dde9-48fb-9236-d513ea25ec71",
   "metadata": {},
   "outputs": [
    {
     "name": "stdout",
     "output_type": "stream",
     "text": [
      "{True, 34, 'male', 'abc', 40}\n"
     ]
    }
   ],
   "source": [
    "print(set1)"
   ]
  },
  {
   "cell_type": "code",
   "execution_count": 15,
   "id": "cbbcc635-a3c7-48dd-8701-1f538798cf73",
   "metadata": {},
   "outputs": [
    {
     "name": "stdout",
     "output_type": "stream",
     "text": [
      "<class 'set'>\n"
     ]
    }
   ],
   "source": [
    "#type()\n",
    "#From Python's perspective, sets are defined as objects with the data type 'set':\n",
    "myset = {\"apple\", \"banana\", \"cherry\",\"mango\"}\n",
    "print(type(myset))"
   ]
  },
  {
   "cell_type": "code",
   "execution_count": 16,
   "id": "f97ef70b-f700-4f27-8a2c-5af4c04ef71a",
   "metadata": {},
   "outputs": [
    {
     "name": "stdout",
     "output_type": "stream",
     "text": [
      "{'banana', 'mango', 'cherry', 'apple'}\n"
     ]
    }
   ],
   "source": [
    "#The set() Constructor\n",
    "#It is also possible to use the set() constructor to make a set.\n",
    "thisset = set((\"apple\", \"banana\", \"cherry\",\"mango\")) # note the double round-brackets\n",
    "print(thisset)"
   ]
  }
 ],
 "metadata": {
  "kernelspec": {
   "display_name": "Python 3 (ipykernel)",
   "language": "python",
   "name": "python3"
  },
  "language_info": {
   "codemirror_mode": {
    "name": "ipython",
    "version": 3
   },
   "file_extension": ".py",
   "mimetype": "text/x-python",
   "name": "python",
   "nbconvert_exporter": "python",
   "pygments_lexer": "ipython3",
   "version": "3.11.7"
  }
 },
 "nbformat": 4,
 "nbformat_minor": 5
}
