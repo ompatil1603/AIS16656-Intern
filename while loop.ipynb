{
 "cells": [
  {
   "cell_type": "code",
   "execution_count": 1,
   "id": "b04db4cd-6bae-41e0-9494-ea020d667be8",
   "metadata": {},
   "outputs": [
    {
     "name": "stdout",
     "output_type": "stream",
     "text": [
      "1\n",
      "2\n",
      "3\n",
      "4\n",
      "5\n"
     ]
    }
   ],
   "source": [
    "#The while Loop\n",
    "#With the while loop we can execute a set of statements as long as a condition is true.\n",
    "#ExampleGet your own Python Server\n",
    "#Print i as long as i is less than 6:\n",
    "#1\n",
    "i = 1\n",
    "while i < 6:\n",
    "  print(i)\n",
    "  i += 1"
   ]
  },
  {
   "cell_type": "code",
   "execution_count": 5,
   "id": "11d8a0c2-be21-43e2-892c-8608ac8f32f7",
   "metadata": {},
   "outputs": [
    {
     "name": "stdout",
     "output_type": "stream",
     "text": [
      "1\n",
      "2\n",
      "3\n"
     ]
    }
   ],
   "source": [
    "#The break Statement\n",
    "#With the break statement we can stop the loop even if the while condition is true:\n",
    "#Example\n",
    "#Exit the loop when i is 3:\n",
    "#2\n",
    "i = 1\n",
    "while i < 6:\n",
    "  print(i)\n",
    "  if i == 3:\n",
    "    break\n",
    "  i += 1"
   ]
  },
  {
   "cell_type": "code",
   "execution_count": 3,
   "id": "200881fc-efd2-4f65-a8b7-95e1f1bc512e",
   "metadata": {},
   "outputs": [
    {
     "name": "stdout",
     "output_type": "stream",
     "text": [
      "2\n",
      "4\n",
      "6\n",
      "8\n",
      "10\n"
     ]
    }
   ],
   "source": [
    "#3\n",
    "i = 2\n",
    "while i < 12:\n",
    "  print(i)\n",
    "  i += 2"
   ]
  },
  {
   "cell_type": "code",
   "execution_count": 4,
   "id": "8a73bbf6-2528-4611-9201-c832a13c07c1",
   "metadata": {},
   "outputs": [
    {
     "name": "stdout",
     "output_type": "stream",
     "text": [
      "5\n",
      "8\n",
      "11\n",
      "14\n",
      "17\n",
      "20\n",
      "23\n"
     ]
    }
   ],
   "source": [
    "#4\n",
    "i = 5\n",
    "while i < 25:\n",
    "  print(i)\n",
    "  i += 3"
   ]
  },
  {
   "cell_type": "code",
   "execution_count": 6,
   "id": "1338bc6f-a018-4fd1-82a6-302099580e2c",
   "metadata": {},
   "outputs": [
    {
     "name": "stdout",
     "output_type": "stream",
     "text": [
      "4\n",
      "6\n",
      "8\n",
      "10\n",
      "12\n",
      "14\n",
      "16\n"
     ]
    }
   ],
   "source": [
    "#5\n",
    "i = 4\n",
    "while i < 24:\n",
    "  print(i)\n",
    "  if i == 16:\n",
    "    break\n",
    "  i += 2"
   ]
  },
  {
   "cell_type": "code",
   "execution_count": 7,
   "id": "9d387b21-155f-4375-9017-4cec810912bf",
   "metadata": {},
   "outputs": [
    {
     "name": "stdout",
     "output_type": "stream",
     "text": [
      "8\n",
      "18\n",
      "28\n",
      "38\n",
      "48\n"
     ]
    }
   ],
   "source": [
    "#6\n",
    "i = 8\n",
    "while i < 56:\n",
    "  print(i)\n",
    "  if i == 40:\n",
    "    break\n",
    "  i += 10"
   ]
  },
  {
   "cell_type": "code",
   "execution_count": 8,
   "id": "baa3bc84-f8fe-4c71-a054-067891c92584",
   "metadata": {},
   "outputs": [
    {
     "name": "stdout",
     "output_type": "stream",
     "text": [
      "1\n",
      "2\n",
      "3\n",
      "4\n",
      "5\n",
      "i is no longer less than 6\n"
     ]
    }
   ],
   "source": [
    "#7\n",
    "#The else Statement\n",
    "#With the else statement we can run a block of code once when the condition no longer is true:\n",
    "i = 1\n",
    "while i < 6:\n",
    "  print(i)\n",
    "  i += 1\n",
    "else:\n",
    "  print(\"i is no longer less than 6\")"
   ]
  },
  {
   "cell_type": "code",
   "execution_count": 10,
   "id": "9f2edadc-930f-4eee-b458-7bff9f2b3043",
   "metadata": {},
   "outputs": [
    {
     "name": "stdout",
     "output_type": "stream",
     "text": [
      "3\n",
      "8\n",
      "13\n",
      "18\n",
      "i is no longer less than 20\n"
     ]
    }
   ],
   "source": [
    "#8\n",
    "i = 3\n",
    "while i < 20:\n",
    "  print(i)\n",
    "  i += 5\n",
    "else:\n",
    "  print(\"i is no longer less than 20\")"
   ]
  },
  {
   "cell_type": "code",
   "execution_count": 12,
   "id": "fa289f5b-1df5-485a-9cca-3e1397742b9d",
   "metadata": {},
   "outputs": [
    {
     "name": "stdout",
     "output_type": "stream",
     "text": [
      "8\n",
      "23\n",
      "38\n",
      "53\n",
      "i is no longer less than 55\n"
     ]
    }
   ],
   "source": [
    "#9\n",
    "i = 8\n",
    "while i < 56:\n",
    "  print(i)\n",
    "  i += 15\n",
    "else:\n",
    "  print(\"i is no longer less than 55\")"
   ]
  },
  {
   "cell_type": "code",
   "execution_count": 13,
   "id": "3e3eca00-a006-4708-93d7-831c2ab41a6f",
   "metadata": {},
   "outputs": [
    {
     "name": "stdout",
     "output_type": "stream",
     "text": [
      "6\n",
      "10\n",
      "14\n",
      "i is no longer less than 14\n"
     ]
    }
   ],
   "source": [
    "#10\n",
    "i = 6\n",
    "while i < 18:\n",
    "  print(i)\n",
    "  i += 4\n",
    "else:\n",
    "  print(\"i is no longer less than 14\")"
   ]
  }
 ],
 "metadata": {
  "kernelspec": {
   "display_name": "Python 3 (ipykernel)",
   "language": "python",
   "name": "python3"
  },
  "language_info": {
   "codemirror_mode": {
    "name": "ipython",
    "version": 3
   },
   "file_extension": ".py",
   "mimetype": "text/x-python",
   "name": "python",
   "nbconvert_exporter": "python",
   "pygments_lexer": "ipython3",
   "version": "3.11.7"
  }
 },
 "nbformat": 4,
 "nbformat_minor": 5
}
