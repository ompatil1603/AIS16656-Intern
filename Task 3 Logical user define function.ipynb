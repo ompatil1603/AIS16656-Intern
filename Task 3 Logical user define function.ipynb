{
 "cells": [
  {
   "cell_type": "code",
   "execution_count": 1,
   "id": "c6069dce-50f2-4255-9879-c69279f6ee05",
   "metadata": {},
   "outputs": [
    {
     "name": "stdin",
     "output_type": "stream",
     "text": [
      "Enter a number:  21\n"
     ]
    },
    {
     "name": "stdout",
     "output_type": "stream",
     "text": [
      "The number is Odd.\n"
     ]
    }
   ],
   "source": [
    "# Odd even\n",
    "def odd_even(num):\n",
    "    if num % 2 ==0:\n",
    "        return(\"Even\")\n",
    "    else:\n",
    "        return(\"Odd\")\n",
    "num = int(input(\"Enter a number: \"))\n",
    "print(f\"The number is {odd_even(num)}.\")"
   ]
  },
  {
   "cell_type": "code",
   "execution_count": 2,
   "id": "18960e0f-4c17-45b6-8a09-a3ec3e63f955",
   "metadata": {},
   "outputs": [
    {
     "name": "stdin",
     "output_type": "stream",
     "text": [
      "Enter a number:  56\n"
     ]
    },
    {
     "name": "stdout",
     "output_type": "stream",
     "text": [
      "The grades for score is F.\n"
     ]
    }
   ],
   "source": [
    "# Grades\n",
    "def grades(score):\n",
    "    if score >= 90:\n",
    "        return(\"A\")\n",
    "    elif score >= 80:\n",
    "        return(\"B\")\n",
    "    elif score >= 70:\n",
    "        return(\"C\")\n",
    "    elif score >=60:\n",
    "        return(\"D\")\n",
    "    else:\n",
    "        return(\"F\")\n",
    "score=float(input(\"Enter a number: \"))\n",
    "print(f\"The grades for score is {grades(score)}.\")\n",
    "               "
   ]
  },
  {
   "cell_type": "code",
   "execution_count": 3,
   "id": "c5a242c1-0404-4d82-9bcb-b0655015f600",
   "metadata": {},
   "outputs": [
    {
     "name": "stdin",
     "output_type": "stream",
     "text": [
      "Enter a number to calculate its factorial:  4\n"
     ]
    },
    {
     "name": "stdout",
     "output_type": "stream",
     "text": [
      "The factorial of number is: 24\n"
     ]
    }
   ],
   "source": [
    "# Factorial function: \n",
    "def fact(n):\n",
    "    if n == 0:\n",
    "       return(1)\n",
    "    else:\n",
    "       return(n * fact(n-1))\n",
    "n = int(input(\"Enter a number to calculate its factorial: \"))\n",
    "print(f\"The factorial of number is: {fact(n)}\")"
   ]
  },
  {
   "cell_type": "code",
   "execution_count": 4,
   "id": "38c1026f-54da-4917-8c4c-c025c4b4c4dc",
   "metadata": {},
   "outputs": [
    {
     "name": "stdin",
     "output_type": "stream",
     "text": [
      "Enter number to check if it is perfect square: 144\n"
     ]
    },
    {
     "name": "stdout",
     "output_type": "stream",
     "text": [
      "n is perfect square.\n"
     ]
    }
   ],
   "source": [
    "# Perfect square\n",
    "def perfect_square(n):\n",
    "     if n < 0:\n",
    "         return(\"False\")\n",
    "     sqrt_n = int(n**0.5)\n",
    "     return sqrt_n * sqrt_n == n\n",
    "n=int(input(\"Enter number to check if it is perfect square:\"))\n",
    "if perfect_square(n):\n",
    "    print(f\"n is perfect square.\")\n",
    "else:\n",
    "    print(f\"n is not perfect square.\")"
   ]
  },
  {
   "cell_type": "code",
   "execution_count": 5,
   "id": "8e481ec8-0315-4f4a-8295-5133c32fb227",
   "metadata": {},
   "outputs": [
    {
     "name": "stdin",
     "output_type": "stream",
     "text": [
      "Enter year to check if it is a leap year: 1958\n"
     ]
    },
    {
     "name": "stdout",
     "output_type": "stream",
     "text": [
      "1958 is not a leap year.\n"
     ]
    }
   ],
   "source": [
    "# leap year\n",
    "def leap_year(year):\n",
    "    if year % 4 == 0:\n",
    "        if year % 100 == 0:\n",
    "            if year % 400 == 0:\n",
    "                return True\n",
    "            else: \n",
    "                return False\n",
    "        else:\n",
    "            return True\n",
    "    else:\n",
    "        return False\n",
    "year = int(input(\"Enter year to check if it is a leap year:\"))\n",
    "if leap_year(year):\n",
    "    print(f\"{year} is a leap year.\")\n",
    "else:\n",
    "    print(f\"{year} is not a leap year.\")"
   ]
  },
  {
   "cell_type": "code",
   "execution_count": 6,
   "id": "b1fcede8-2b4f-4b87-a886-ec348519e294",
   "metadata": {},
   "outputs": [
    {
     "name": "stdout",
     "output_type": "stream",
     "text": [
      "GCD 22 and 5 is: 1\n"
     ]
    }
   ],
   "source": [
    "# Gretest common divissor\n",
    "def gcd(a,b):\n",
    "    while b != 0:\n",
    "        a, b = b, a % b\n",
    "    return a\n",
    "a=22\n",
    "b=5\n",
    "result=gcd(a,b)\n",
    "print(\"GCD\", a, \"and\", b, \"is:\", result)\n"
   ]
  },
  {
   "cell_type": "code",
   "execution_count": 7,
   "id": "c5e1d90d-efd7-485a-b710-7636326d6aae",
   "metadata": {},
   "outputs": [
    {
     "name": "stdout",
     "output_type": "stream",
     "text": [
      "3\n"
     ]
    }
   ],
   "source": [
    "#count the number of vowels in a string\n",
    "def count_vowels(s):\n",
    "    vowels = 'aeiou'\n",
    "    return sum(1 for char in s if char in vowels)\n",
    "s = \"Hello World\"\n",
    "print(count_vowels(s))"
   ]
  },
  {
   "cell_type": "code",
   "execution_count": 8,
   "id": "7cfa1a8b-ca45-4151-9140-82626a67ed1e",
   "metadata": {},
   "outputs": [
    {
     "name": "stdout",
     "output_type": "stream",
     "text": [
      "12\n"
     ]
    }
   ],
   "source": [
    "# least common multiple (LCM) of two numbers\n",
    "def lcm(a, b):\n",
    "    return abs(a * b) // gcd(a, b)\n",
    "a = 4\n",
    "b = 6\n",
    "print(lcm(a, b))"
   ]
  },
  {
   "cell_type": "code",
   "execution_count": 9,
   "id": "8d6150f5-c5c5-4cab-8cc8-de0ec067a490",
   "metadata": {},
   "outputs": [
    {
     "name": "stdin",
     "output_type": "stream",
     "text": [
      "Enter a number:  12\n"
     ]
    },
    {
     "name": "stdout",
     "output_type": "stream",
     "text": [
      "The number is positive.\n"
     ]
    }
   ],
   "source": [
    "# Positive number\n",
    "def positive(num):\n",
    "    return num > 0\n",
    "num = float(input(\"Enter a number: \"))\n",
    "if positive(num):\n",
    "    print(\"The number is positive.\")\n",
    "else:\n",
    "    print(\"The number is not positive.\")"
   ]
  },
  {
   "cell_type": "code",
   "execution_count": 10,
   "id": "4764497a-f931-434a-8acc-6f57a83a5fb3",
   "metadata": {},
   "outputs": [
    {
     "name": "stdin",
     "output_type": "stream",
     "text": [
      "Enter a number:  -26\n"
     ]
    },
    {
     "name": "stdout",
     "output_type": "stream",
     "text": [
      "The number is negative.\n"
     ]
    }
   ],
   "source": [
    "# Negative number\n",
    "def negative(num):\n",
    "    return num < 0\n",
    "num = float(input(\"Enter a number: \"))\n",
    "if negative(num):\n",
    "    print(\"The number is negative.\")\n",
    "else:\n",
    "    print(\"The number is not negative.\")"
   ]
  }
 ],
 "metadata": {
  "kernelspec": {
   "display_name": "Python 3 (ipykernel)",
   "language": "python",
   "name": "python3"
  },
  "language_info": {
   "codemirror_mode": {
    "name": "ipython",
    "version": 3
   },
   "file_extension": ".py",
   "mimetype": "text/x-python",
   "name": "python",
   "nbconvert_exporter": "python",
   "pygments_lexer": "ipython3",
   "version": "3.11.7"
  }
 },
 "nbformat": 4,
 "nbformat_minor": 5
}
