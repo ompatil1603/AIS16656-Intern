{
 "cells": [
  {
   "cell_type": "markdown",
   "id": "0faf14ff-7573-44c5-b68a-28423e6633b6",
   "metadata": {},
   "source": [
    "Checking for Missing Values\n",
    "You can use several methods to check for missing values in a DataFrame:\n",
    "\n",
    "isnull() and notnull(): These functions return a DataFrame of the same shape as the original, indicating whether each value is null or not."
   ]
  },
  {
   "cell_type": "code",
   "execution_count": 2,
   "id": "f9f47f34-53d8-41cd-9bc3-a2bfed198f7e",
   "metadata": {},
   "outputs": [
    {
     "name": "stdout",
     "output_type": "stream",
     "text": [
      "     A    B     C\n",
      "0  1.0  5.0   9.0\n",
      "1  2.0  NaN  10.0\n",
      "2  NaN  7.0  11.0\n",
      "3  4.0  8.0   NaN\n",
      "       A      B      C\n",
      "0  False  False  False\n",
      "1  False   True  False\n",
      "2   True  False  False\n",
      "3  False  False   True\n"
     ]
    }
   ],
   "source": [
    "import pandas as pd\n",
    "\n",
    "# Example DataFrame with missing values\n",
    "data = {\n",
    "    'A': [1, 2, None, 4],\n",
    "    'B': [5, None, 7, 8],\n",
    "    'C': [9, 10, 11, None]\n",
    "}\n",
    "df = pd.DataFrame(data)\n",
    "print(df)\n",
    "# Check for missing values\n",
    "missing_values = df.isnull()\n",
    "print(missing_values)"
   ]
  },
  {
   "cell_type": "code",
   "execution_count": 3,
   "id": "7cbdd742-c2af-42d0-b86e-792788ede050",
   "metadata": {},
   "outputs": [
    {
     "name": "stdout",
     "output_type": "stream",
     "text": [
      "A    1\n",
      "B    1\n",
      "C    1\n",
      "dtype: int64\n"
     ]
    }
   ],
   "source": [
    "# Number of missing values per column\n",
    "missing_per_column = df.isnull().sum()\n",
    "print(missing_per_column)"
   ]
  },
  {
   "cell_type": "code",
   "execution_count": 4,
   "id": "4c6f4582-ee5f-4f9d-9b88-388a9dfa1f33",
   "metadata": {},
   "outputs": [
    {
     "name": "stdout",
     "output_type": "stream",
     "text": [
      "     A    B    C\n",
      "0  1.0  5.0  9.0\n"
     ]
    }
   ],
   "source": [
    "# Drop rows with any missing values\n",
    "df_drop_rows = df.dropna()\n",
    "print(df_drop_rows)"
   ]
  },
  {
   "cell_type": "code",
   "execution_count": 5,
   "id": "f3edf68f-aa7b-4934-a6a2-4434587b0979",
   "metadata": {},
   "outputs": [
    {
     "name": "stdout",
     "output_type": "stream",
     "text": [
      "Empty DataFrame\n",
      "Columns: []\n",
      "Index: [0, 1, 2, 3]\n"
     ]
    }
   ],
   "source": [
    "# Drop columns with any missing values\n",
    "df_drop_cols = df.dropna(axis=1)\n",
    "print(df_drop_cols)"
   ]
  },
  {
   "cell_type": "code",
   "execution_count": 7,
   "id": "6ced4100-71eb-4506-9d82-49e0f760fa27",
   "metadata": {},
   "outputs": [
    {
     "name": "stdout",
     "output_type": "stream",
     "text": [
      "     A    B     C\n",
      "0  1.0  5.0   9.0\n",
      "1  2.0  0.0  10.0\n",
      "2  0.0  7.0  11.0\n",
      "3  4.0  8.0   0.0\n"
     ]
    }
   ],
   "source": [
    "# Fill missing values with 0\n",
    "df_fill_0 = df.fillna(0)\n",
    "print(df_fill_0)"
   ]
  },
  {
   "cell_type": "code",
   "execution_count": 8,
   "id": "018fc6bd-c07f-44d5-ba09-d5d3b4039be0",
   "metadata": {},
   "outputs": [
    {
     "name": "stdout",
     "output_type": "stream",
     "text": [
      "          A         B     C\n",
      "0  1.000000  5.000000   9.0\n",
      "1  2.000000  6.666667  10.0\n",
      "2  2.333333  7.000000  11.0\n",
      "3  4.000000  8.000000  10.0\n"
     ]
    }
   ],
   "source": [
    "# Fill missing values with the mean of the column\n",
    "df_fill_mean = df.fillna(df.mean())\n",
    "print(df_fill_mean)"
   ]
  },
  {
   "cell_type": "code",
   "execution_count": 9,
   "id": "0e31e2e9-0efa-46c7-be70-ac1a0be57f8a",
   "metadata": {},
   "outputs": [
    {
     "name": "stdout",
     "output_type": "stream",
     "text": [
      "     A    B     C\n",
      "0  1.0  5.0   9.0\n",
      "1  2.0  7.0  10.0\n",
      "2  2.0  7.0  11.0\n",
      "3  4.0  8.0  10.0\n"
     ]
    }
   ],
   "source": [
    "# Fill missing values with the median of the column\n",
    "df_fill_median = df.fillna(df.median())\n",
    "print(df_fill_median)"
   ]
  },
  {
   "cell_type": "code",
   "execution_count": 6,
   "id": "1b03f855-adaf-4b69-aa1e-2ca398ca7610",
   "metadata": {},
   "outputs": [
    {
     "name": "stdout",
     "output_type": "stream",
     "text": [
      "Missing values:\n",
      "        A      B      C\n",
      "0  False  False  False\n",
      "1  False   True  False\n",
      "2   True  False  False\n",
      "3  False  False   True\n",
      "\n",
      "Missing values per column:\n",
      " A    1\n",
      "B    1\n",
      "C    1\n",
      "dtype: int64\n",
      "\n",
      "DataFrame after dropping rows with missing values:\n",
      "      A    B    C\n",
      "0  1.0  5.0  9.0\n",
      "\n",
      "DataFrame after dropping columns with missing values:\n",
      " Empty DataFrame\n",
      "Columns: []\n",
      "Index: [0, 1, 2, 3]\n",
      "\n",
      "DataFrame after filling missing values with 0:\n",
      "      A    B     C\n",
      "0  1.0  5.0   9.0\n",
      "1  2.0  0.0  10.0\n",
      "2  0.0  7.0  11.0\n",
      "3  4.0  8.0   0.0\n",
      "\n",
      "DataFrame after filling missing values with the mean:\n",
      "           A         B     C\n",
      "0  1.000000  5.000000   9.0\n",
      "1  2.000000  6.666667  10.0\n",
      "2  2.333333  7.000000  11.0\n",
      "3  4.000000  8.000000  10.0\n",
      "\n",
      "DataFrame after filling missing values with the median:\n",
      "      A    B     C\n",
      "0  1.0  5.0   9.0\n",
      "1  2.0  7.0  10.0\n",
      "2  2.0  7.0  11.0\n",
      "3  4.0  8.0  10.0\n"
     ]
    }
   ],
   "source": [
    "import pandas as pd\n",
    "\n",
    "# Example DataFrame with missing values\n",
    "data = {\n",
    "    'A': [1, 2, None, 4],\n",
    "    'B': [5, None, 7, 8],\n",
    "    'C': [9, 10, 11, None]\n",
    "}\n",
    "df = pd.DataFrame(data)\n",
    "\n",
    "# Checking for missing values\n",
    "missing_values = df.isnull()\n",
    "print(\"Missing values:\\n\", missing_values)\n",
    "\n",
    "# Number of missing values per column\n",
    "missing_per_column = df.isnull().sum()\n",
    "print(\"\\nMissing values per column:\\n\", missing_per_column)\n",
    "\n",
    "# Dropping rows with any missing values\n",
    "df_drop_rows = df.dropna()\n",
    "print(\"\\nDataFrame after dropping rows with missing values:\\n\", df_drop_rows)\n",
    "\n",
    "# Dropping columns with any missing values\n",
    "df_drop_cols = df.dropna(axis=1)\n",
    "print(\"\\nDataFrame after dropping columns with missing values:\\n\", df_drop_cols)\n",
    "\n",
    "# Filling missing values with 0\n",
    "df_fill_0 = df.fillna(0)\n",
    "print(\"\\nDataFrame after filling missing values with 0:\\n\", df_fill_0)\n",
    "\n",
    "# Filling missing values with the mean of the column\n",
    "df_fill_mean = df.fillna(df.mean())\n",
    "print(\"\\nDataFrame after filling missing values with the mean:\\n\", df_fill_mean)\n",
    "\n",
    "# Filling missing values with the median of the column\n",
    "df_fill_median = df.fillna(df.median())\n",
    "print(\"\\nDataFrame after filling missing values with the median:\\n\", df_fill_median)\n"
   ]
  }
 ],
 "metadata": {
  "kernelspec": {
   "display_name": "Python 3 (ipykernel)",
   "language": "python",
   "name": "python3"
  },
  "language_info": {
   "codemirror_mode": {
    "name": "ipython",
    "version": 3
   },
   "file_extension": ".py",
   "mimetype": "text/x-python",
   "name": "python",
   "nbconvert_exporter": "python",
   "pygments_lexer": "ipython3",
   "version": "3.11.7"
  }
 },
 "nbformat": 4,
 "nbformat_minor": 5
}
