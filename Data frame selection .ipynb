{
 "cells": [
  {
   "cell_type": "markdown",
   "id": "7e31f47f-6d35-41c1-b27f-e8e4c6176fd5",
   "metadata": {},
   "source": [
    "DataFrame Column and Row Selection (loc and iloc)\n",
    "loc is label-based, meaning that you have to specify rows and columns based on their labels.\n",
    "iloc is integer position-based, meaning that you have to specify rows and columns based on their integer positions."
   ]
  },
  {
   "cell_type": "code",
   "execution_count": 32,
   "id": "099e3041-7a35-45bb-9ba3-64e89dfb5df2",
   "metadata": {},
   "outputs": [
    {
     "name": "stdout",
     "output_type": "stream",
     "text": [
      "   A  B   C\n",
      "0  1  5   9\n",
      "1  2  6  10\n",
      "2  3  7  11\n",
      "3  4  8  12\n"
     ]
    }
   ],
   "source": [
    "import pandas as pd\n",
    "\n",
    "data = {\n",
    "    'A': [1, 2, 3, 4],\n",
    "    'B': [5, 6, 7, 8],\n",
    "    'C': [9, 10, 11, 12]\n",
    "}\n",
    "df = pd.DataFrame(data)\n",
    "print(df)"
   ]
  },
  {
   "cell_type": "code",
   "execution_count": 34,
   "id": "60cff6dc-2464-461d-a64b-3f281ce39267",
   "metadata": {},
   "outputs": [
    {
     "name": "stdout",
     "output_type": "stream",
     "text": [
      "   A  B\n",
      "0  1  5\n",
      "1  2  6\n"
     ]
    }
   ],
   "source": [
    "# Select rows 0 and 1 and columns 'A' and 'B'\n",
    "df_loc = df.loc[0:1, ['A', 'B']]\n",
    "print(df_loc)"
   ]
  },
  {
   "cell_type": "code",
   "execution_count": 35,
   "id": "df09edb4-cf06-47c1-8e96-a95166580dd1",
   "metadata": {},
   "outputs": [
    {
     "name": "stdout",
     "output_type": "stream",
     "text": [
      "   A  B\n",
      "0  1  5\n",
      "1  2  6\n"
     ]
    }
   ],
   "source": [
    "# Select rows 0 and 1 and columns 0 and 1\n",
    "df_iloc = df.iloc[0:2, 0:2]\n",
    "print(df_iloc)"
   ]
  },
  {
   "cell_type": "code",
   "execution_count": 36,
   "id": "e9459e33-9e5a-496d-a603-89aae7da9b45",
   "metadata": {},
   "outputs": [
    {
     "name": "stdout",
     "output_type": "stream",
     "text": [
      "   A  B   C\n",
      "2  3  7  11\n",
      "3  4  8  12\n"
     ]
    }
   ],
   "source": [
    "# Select rows where column 'A' is greater than 2\n",
    "df_cond = df[df['A'] > 2]\n",
    "print(df_cond)"
   ]
  },
  {
   "cell_type": "code",
   "execution_count": 48,
   "id": "d4ea8b4b-0bf0-4b6a-bee6-301a0455bb6d",
   "metadata": {},
   "outputs": [
    {
     "name": "stdout",
     "output_type": "stream",
     "text": [
      "    A  B\n",
      "0  21  5\n",
      "1  22  6\n",
      "2  23  7\n",
      "3  24  8\n"
     ]
    }
   ],
   "source": [
    "# Delete column 'C'\n",
    "df.drop('C', axis=1, inplace=True)\n",
    "print(df)"
   ]
  },
  {
   "cell_type": "code",
   "execution_count": 43,
   "id": "25eee849-daa1-437b-836b-2cefc22cfc87",
   "metadata": {},
   "outputs": [
    {
     "name": "stdout",
     "output_type": "stream",
     "text": [
      "0    21\n",
      "1    22\n",
      "2    23\n",
      "3    24\n",
      "Name: A, dtype: int64\n"
     ]
    }
   ],
   "source": [
    "# Update column 'A' with new values\n",
    "df['A'] = df['A'] + 10\n",
    "print(df['A'])"
   ]
  },
  {
   "cell_type": "code",
   "execution_count": 49,
   "id": "268d2c31-a4e9-43f2-abf8-5a81646ef4f3",
   "metadata": {},
   "outputs": [
    {
     "name": "stdout",
     "output_type": "stream",
     "text": [
      "    B\n",
      "A    \n",
      "21  5\n",
      "22  6\n",
      "23  7\n",
      "24  8\n"
     ]
    }
   ],
   "source": [
    "# Set column 'A' as index\n",
    "df.set_index('A', inplace=True)\n",
    "print(df)"
   ]
  },
  {
   "cell_type": "code",
   "execution_count": 50,
   "id": "d4899792-1f27-4def-a0cd-65ea3bbbd717",
   "metadata": {},
   "outputs": [
    {
     "name": "stdout",
     "output_type": "stream",
     "text": [
      "    A  B\n",
      "0  21  5\n",
      "1  22  6\n",
      "2  23  7\n",
      "3  24  8\n"
     ]
    }
   ],
   "source": [
    "# Reset index to default integer index\n",
    "df.reset_index(inplace=True)\n",
    "print(df)"
   ]
  },
  {
   "cell_type": "code",
   "execution_count": 51,
   "id": "6837dd11-0afc-44a2-94c9-620a81d7e42e",
   "metadata": {},
   "outputs": [
    {
     "name": "stdout",
     "output_type": "stream",
     "text": [
      "0    26\n",
      "1    28\n",
      "2    30\n",
      "3    32\n",
      "Name: E, dtype: int64\n"
     ]
    }
   ],
   "source": [
    "# Add columns 'A' and 'B' and store in a new column 'E'\n",
    "df['E'] = df['A'] + df['B']\n",
    "print(df['E'])"
   ]
  },
  {
   "cell_type": "code",
   "execution_count": 52,
   "id": "1910e08f-8e9f-41a4-bc2f-d558265a08f2",
   "metadata": {},
   "outputs": [
    {
     "name": "stdout",
     "output_type": "stream",
     "text": [
      "0    16\n",
      "1    16\n",
      "2    16\n",
      "3    16\n",
      "Name: F, dtype: int64\n"
     ]
    }
   ],
   "source": [
    "# Subtract column 'B' from 'A' and store in a new column 'F'\n",
    "df['F'] = df['A'] - df['B']\n",
    "print(df['F'])"
   ]
  },
  {
   "cell_type": "code",
   "execution_count": 53,
   "id": "663f5b1a-6138-4191-9406-d49cb32add75",
   "metadata": {},
   "outputs": [
    {
     "name": "stdout",
     "output_type": "stream",
     "text": [
      "0    105\n",
      "1    132\n",
      "2    161\n",
      "3    192\n",
      "Name: G, dtype: int64\n"
     ]
    }
   ],
   "source": [
    "# Multiply columns 'A' and 'B' and store in a new column 'G'\n",
    "df['G'] = df['A'] * df['B']\n",
    "print(df['G'])"
   ]
  },
  {
   "cell_type": "code",
   "execution_count": 54,
   "id": "187a29fa-26ca-4fa0-846c-c8651ad5c491",
   "metadata": {},
   "outputs": [
    {
     "name": "stdout",
     "output_type": "stream",
     "text": [
      "0    True\n",
      "1    True\n",
      "2    True\n",
      "3    True\n",
      "Name: H, dtype: bool\n"
     ]
    }
   ],
   "source": [
    "# Logical OR between two boolean columns\n",
    "df['H'] = (df['A'] > 2) | (df['B'] < 7)\n",
    "print(df['H'])"
   ]
  },
  {
   "cell_type": "code",
   "execution_count": 55,
   "id": "4060c6d2-c086-46b5-9bea-fab59f29aaba",
   "metadata": {},
   "outputs": [
    {
     "name": "stdout",
     "output_type": "stream",
     "text": [
      "    A  B   C   E  F    G     H\n",
      "0  11  5   9  16  6   55  True\n",
      "1  12  6  10  18  6   72  True\n",
      "2  13  7  11  20  6   91  True\n",
      "3  14  8  12  22  6  112  True\n"
     ]
    }
   ],
   "source": [
    "import pandas as pd\n",
    "\n",
    "# Create DataFrame\n",
    "data = {\n",
    "    'A': [1, 2, 3, 4],\n",
    "    'B': [5, 6, 7, 8],\n",
    "    'C': [9, 10, 11, 12]\n",
    "}\n",
    "df = pd.DataFrame(data)\n",
    "\n",
    "# Row and column selection\n",
    "df_loc = df.loc[0:1, ['A', 'B']]\n",
    "df_iloc = df.iloc[0:2, 0:2]\n",
    "\n",
    "# Conditional selection\n",
    "df_cond = df[df['A'] > 2]\n",
    "\n",
    "# Column addition\n",
    "df['D'] = [13, 14, 15, 16]\n",
    "\n",
    "# Column deletion\n",
    "df.drop('D', axis=1, inplace=True)\n",
    "\n",
    "# Column update\n",
    "df['A'] = df['A'] + 10\n",
    "\n",
    "# Index operations\n",
    "df.set_index('A', inplace=True)\n",
    "df.reset_index(inplace=True)\n",
    "\n",
    "# Operations between columns\n",
    "df['E'] = df['A'] + df['B']\n",
    "df['F'] = df['A'] - df['B']\n",
    "df['G'] = df['A'] * df['B']\n",
    "df['H'] = (df['A'] > 2) | (df['B'] < 7)\n",
    "\n",
    "print(df)\n"
   ]
  }
 ],
 "metadata": {
  "kernelspec": {
   "display_name": "Python 3 (ipykernel)",
   "language": "python",
   "name": "python3"
  },
  "language_info": {
   "codemirror_mode": {
    "name": "ipython",
    "version": 3
   },
   "file_extension": ".py",
   "mimetype": "text/x-python",
   "name": "python",
   "nbconvert_exporter": "python",
   "pygments_lexer": "ipython3",
   "version": "3.11.7"
  }
 },
 "nbformat": 4,
 "nbformat_minor": 5
}
