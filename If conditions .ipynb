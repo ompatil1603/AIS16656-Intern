{
 "cells": [
  {
   "cell_type": "markdown",
   "id": "72c53cdc-0c6f-4cf1-868d-90b72a4c7f43",
   "metadata": {},
   "source": [
    "#Python Conditions and If statements\n",
    "#Python supports the usual logical conditions from mathematics:\n",
    "\n",
    "Equals: a == b\n",
    "Not Equals: a != b\n",
    "Less than: a < b\n",
    "Less than or equal to: a <= b\n",
    "Greater than: a > b\n",
    "Greater than or equal to: a >= b\n",
    "These conditions can be used in several ways, most commonly in \"if statements\" and loops.\n",
    "\n",
    "An \"if statement\" is written by using the if keyword."
   ]
  },
  {
   "cell_type": "code",
   "execution_count": 18,
   "id": "0eec5694-d2e4-4e3c-a14d-000c7bc280c8",
   "metadata": {},
   "outputs": [
    {
     "name": "stdout",
     "output_type": "stream",
     "text": [
      "y is greater than x\n"
     ]
    }
   ],
   "source": [
    "#1\n",
    "x = 78\n",
    "y = 412\n",
    "if y > x:\n",
    "  print(\"y is greater than x\")"
   ]
  },
  {
   "cell_type": "code",
   "execution_count": 5,
   "id": "16844a7e-5fa1-4b3c-a072-a06c5dff8c81",
   "metadata": {},
   "outputs": [
    {
     "ename": "IndentationError",
     "evalue": "expected an indented block after 'if' statement on line 4 (2031442434.py, line 5)",
     "output_type": "error",
     "traceback": [
      "\u001b[1;36m  Cell \u001b[1;32mIn[5], line 5\u001b[1;36m\u001b[0m\n\u001b[1;33m    print(\"b is greater than a\") # you will get an error\u001b[0m\n\u001b[1;37m    ^\u001b[0m\n\u001b[1;31mIndentationError\u001b[0m\u001b[1;31m:\u001b[0m expected an indented block after 'if' statement on line 4\n"
     ]
    }
   ],
   "source": [
    "#If statement, without indentation (will raise an error):\n",
    "a = 33\n",
    "b = 200\n",
    "if b > a:\n",
    "print(\"b is greater than a\") # you will get an error"
   ]
  },
  {
   "cell_type": "code",
   "execution_count": 25,
   "id": "de9eff31-c722-4515-9dd4-f4aae457f569",
   "metadata": {},
   "outputs": [
    {
     "name": "stdout",
     "output_type": "stream",
     "text": [
      "x is greater than y\n"
     ]
    }
   ],
   "source": [
    "#2\n",
    "x = 453\n",
    "y = 95\n",
    "if x > y:\n",
    "  print(\"x is greater than y\")"
   ]
  },
  {
   "cell_type": "code",
   "execution_count": 27,
   "id": "6ddc32d5-caf0-466a-91b4-0c1abab962a9",
   "metadata": {},
   "outputs": [
    {
     "name": "stdout",
     "output_type": "stream",
     "text": [
      "a is NOT greater than b\n"
     ]
    }
   ],
   "source": [
    "#3\n",
    "#Not\n",
    "#The not keyword is a logical operator, and is used to reverse the result of the conditional statement:\n",
    "a = 33\n",
    "b = 200\n",
    "if not a > b:\n",
    "  print(\"a is NOT greater than b\")"
   ]
  },
  {
   "cell_type": "code",
   "execution_count": 26,
   "id": "bb007802-b6bc-4cbe-9a3f-2561b9f82c4e",
   "metadata": {},
   "outputs": [
    {
     "name": "stdout",
     "output_type": "stream",
     "text": [
      "o is greater than p\n",
      "p is NOT greater than o\n"
     ]
    }
   ],
   "source": [
    "#4\n",
    "o=96\n",
    "p=86\n",
    "if o > p:\n",
    "    print(\"o is greater than p\")\n",
    "    print(\"p is NOT greater than o\")"
   ]
  },
  {
   "cell_type": "code",
   "execution_count": 32,
   "id": "43076e06-a971-4149-875b-c473c9a03919",
   "metadata": {},
   "outputs": [
    {
     "name": "stdout",
     "output_type": "stream",
     "text": [
      "y is greater than x\n",
      "x is not greater than y\n"
     ]
    }
   ],
   "source": [
    "#5\n",
    "x=86\n",
    "y=119\n",
    "if y > x :\n",
    "    print(\"y is greater than x\")\n",
    "    print(\"x is not greater than y\")"
   ]
  },
  {
   "cell_type": "code",
   "execution_count": 34,
   "id": "425d07b5-7c89-4f64-badd-112ebfda6811",
   "metadata": {},
   "outputs": [
    {
     "name": "stdout",
     "output_type": "stream",
     "text": [
      "Both conditions are True\n"
     ]
    }
   ],
   "source": [
    "#And\n",
    "#The and keyword is a logical operator, and is used to combine conditional statements:\n",
    "#6\n",
    "a = 200\n",
    "b = 33\n",
    "c = 500\n",
    "if a > b and c > a:\n",
    "  print(\"Both conditions are True\")"
   ]
  },
  {
   "cell_type": "code",
   "execution_count": 37,
   "id": "7e45e200-f2e8-473b-afdc-9047ea5c3215",
   "metadata": {},
   "outputs": [
    {
     "name": "stdout",
     "output_type": "stream",
     "text": [
      "At least one of the conditions is True\n"
     ]
    }
   ],
   "source": [
    "#Or\n",
    "#The or keyword is a logical operator, and is used to combine conditional statements:\n",
    "#7\n",
    "a = 352\n",
    "b = 65\n",
    "c = 761\n",
    "if a > b or a > c:\n",
    "  print(\"At least one of the conditions is True\")"
   ]
  },
  {
   "cell_type": "code",
   "execution_count": 38,
   "id": "68012042-df06-4c87-acf7-07897a260957",
   "metadata": {},
   "outputs": [
    {
     "name": "stdout",
     "output_type": "stream",
     "text": [
      "At least one of the conditions is True\n"
     ]
    }
   ],
   "source": [
    "#8\n",
    "x = 315\n",
    "y = 110\n",
    "z = 611\n",
    "if x > y or x > z:\n",
    "  print(\"At least one of the conditions is True\")"
   ]
  },
  {
   "cell_type": "code",
   "execution_count": 39,
   "id": "a82fb9ab-2791-4013-8b99-03564aca00a1",
   "metadata": {},
   "outputs": [
    {
     "name": "stdout",
     "output_type": "stream",
     "text": [
      "Above ten,\n",
      "and also above 20!\n"
     ]
    }
   ],
   "source": [
    "#9\n",
    "#Nested If\n",
    "#You can have if statements inside if statements, this is called nested if statements.\n",
    "x = 41\n",
    "\n",
    "if x > 10:\n",
    "  print(\"Above ten,\")\n",
    "  if x > 20:\n",
    "    print(\"and also above 20!\")\n",
    "  else:\n",
    "    print(\"but not above 20.\")"
   ]
  },
  {
   "cell_type": "code",
   "execution_count": 51,
   "id": "05b0b1e9-b775-448c-82ff-3461ad974ca3",
   "metadata": {},
   "outputs": [
    {
     "name": "stdout",
     "output_type": "stream",
     "text": [
      "above ten\n",
      "is not equal to Seventy five\n"
     ]
    }
   ],
   "source": [
    "#10\n",
    "a=70\n",
    "a!=75\n",
    "if a > 10:\n",
    "    print(\"above ten\")\n",
    "if a!=75:\n",
    "    print(\"is not equal to Seventy five\")"
   ]
  }
 ],
 "metadata": {
  "kernelspec": {
   "display_name": "Python 3 (ipykernel)",
   "language": "python",
   "name": "python3"
  },
  "language_info": {
   "codemirror_mode": {
    "name": "ipython",
    "version": 3
   },
   "file_extension": ".py",
   "mimetype": "text/x-python",
   "name": "python",
   "nbconvert_exporter": "python",
   "pygments_lexer": "ipython3",
   "version": "3.11.7"
  }
 },
 "nbformat": 4,
 "nbformat_minor": 5
}
