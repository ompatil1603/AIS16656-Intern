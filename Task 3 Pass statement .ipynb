{
 "cells": [
  {
   "cell_type": "markdown",
   "id": "da984cae-9714-4772-966b-b3a66590841e",
   "metadata": {},
   "source": [
    "The pass Statement in Function\n",
    "function definitions cannot be empty, but if you for some reason have a function definition with no content, \n",
    "put in the pass statement to avoid getting an error."
   ]
  },
  {
   "cell_type": "code",
   "execution_count": 6,
   "id": "82d64db3-987d-453d-bcef-258e8608f5b0",
   "metadata": {},
   "outputs": [],
   "source": [
    "def myfunction():\n",
    "  pass"
   ]
  },
  {
   "cell_type": "code",
   "execution_count": 12,
   "id": "033a8073-5db7-4b76-91ae-60fcb925e097",
   "metadata": {},
   "outputs": [],
   "source": [
    "#1\n",
    "x = 78\n",
    "y = 412\n",
    "if y > x:\n",
    "  pass"
   ]
  },
  {
   "cell_type": "code",
   "execution_count": 13,
   "id": "0240dc49-513b-414f-905e-da1dfee02ab1",
   "metadata": {},
   "outputs": [],
   "source": [
    "#2\n",
    "a = 200\n",
    "b = 33\n",
    "c = 500\n",
    "if a > b and c > a:\n",
    "    pass"
   ]
  },
  {
   "cell_type": "code",
   "execution_count": 14,
   "id": "b8c1dbae-2a5d-4b34-91ed-e4047e0c83d0",
   "metadata": {},
   "outputs": [],
   "source": [
    "#3\n",
    "a=70\n",
    "a!=75\n",
    "if a > 10:\n",
    "    pass"
   ]
  }
 ],
 "metadata": {
  "kernelspec": {
   "display_name": "Python 3 (ipykernel)",
   "language": "python",
   "name": "python3"
  },
  "language_info": {
   "codemirror_mode": {
    "name": "ipython",
    "version": 3
   },
   "file_extension": ".py",
   "mimetype": "text/x-python",
   "name": "python",
   "nbconvert_exporter": "python",
   "pygments_lexer": "ipython3",
   "version": "3.11.7"
  }
 },
 "nbformat": 4,
 "nbformat_minor": 5
}
