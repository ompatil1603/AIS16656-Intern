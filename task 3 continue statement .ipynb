{
 "cells": [
  {
   "cell_type": "markdown",
   "id": "b7baf9f7-67c3-4aa3-b44c-9e3380840f78",
   "metadata": {},
   "source": [
    "The continue Statement\n",
    "With the continue statement we can stop the current iteration of the loop, and continue with the next"
   ]
  },
  {
   "cell_type": "code",
   "execution_count": 4,
   "id": "ff410f01-d242-4db8-bd0d-d6ad7cdc4171",
   "metadata": {},
   "outputs": [
    {
     "name": "stdout",
     "output_type": "stream",
     "text": [
      "apple\n",
      "cherry\n",
      "mango\n"
     ]
    }
   ],
   "source": [
    "#1\n",
    "fruits = [\"apple\", \"banana\", \"cherry\",\"mango\"]\n",
    "for x in fruits:\n",
    "  if x == \"banana\":\n",
    "    continue\n",
    "  print(x)"
   ]
  },
  {
   "cell_type": "code",
   "execution_count": 5,
   "id": "766c3cae-65be-4b21-b3ba-c6f48ea945bf",
   "metadata": {},
   "outputs": [
    {
     "name": "stdout",
     "output_type": "stream",
     "text": [
      "anirudh\n",
      "akasha\n",
      "sahil\n",
      "om\n"
     ]
    }
   ],
   "source": [
    "#2\n",
    "friends = [\"anirudh\",\"akasha\",\"rahul\",\"sahil\",\"om\"]\n",
    "for a in friends:\n",
    "    if a == \"rahul\":\n",
    "      continue\n",
    "    print(a)"
   ]
  },
  {
   "cell_type": "code",
   "execution_count": 6,
   "id": "f451234f-8f60-4cda-aafd-2c4d94048a47",
   "metadata": {},
   "outputs": [
    {
     "name": "stdout",
     "output_type": "stream",
     "text": [
      "jain\n",
      "Hindu\n",
      "Khrichan\n"
     ]
    }
   ],
   "source": [
    "#3\n",
    "religan = [\"jain\",\"Hindu\",\"muslim\",\"Khrichan\"]\n",
    "for d in religan:\n",
    "    if d == \"muslim\":\n",
    "       continue\n",
    "    print(d)"
   ]
  }
 ],
 "metadata": {
  "kernelspec": {
   "display_name": "Python 3 (ipykernel)",
   "language": "python",
   "name": "python3"
  },
  "language_info": {
   "codemirror_mode": {
    "name": "ipython",
    "version": 3
   },
   "file_extension": ".py",
   "mimetype": "text/x-python",
   "name": "python",
   "nbconvert_exporter": "python",
   "pygments_lexer": "ipython3",
   "version": "3.11.7"
  }
 },
 "nbformat": 4,
 "nbformat_minor": 5
}
