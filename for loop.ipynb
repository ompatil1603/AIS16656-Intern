{
 "cells": [
  {
   "cell_type": "markdown",
   "id": "b6cf35e1-2098-46c7-97e2-f2d180a95c99",
   "metadata": {},
   "source": [
    "#Python For Loops\n",
    "#A for loop is used for iterating over a sequence (that is either a list, a tuple, a dictionary, a set, or a string).\n",
    "\n",
    "This is less like the for keyword in other programming languages, and works more like an iterator method as found in other object-orientated programming languages.\n",
    "\n",
    "With the for loop we can execute a set of statements, once for each item in a list, tuple, set etc."
   ]
  },
  {
   "cell_type": "code",
   "execution_count": 3,
   "id": "1bf71875-fdf9-466b-a76a-f23be75c21d7",
   "metadata": {},
   "outputs": [
    {
     "name": "stdout",
     "output_type": "stream",
     "text": [
      "apple\n",
      "banana\n",
      "cherry\n",
      "mango\n"
     ]
    }
   ],
   "source": [
    "#1\n",
    "fruits = [\"apple\", \"banana\", \"cherry\",\"mango\"]\n",
    "for x in fruits:\n",
    "  print(x)"
   ]
  },
  {
   "cell_type": "code",
   "execution_count": 4,
   "id": "20656963-84fb-40e6-a35a-dc45084d4da3",
   "metadata": {},
   "outputs": [
    {
     "name": "stdout",
     "output_type": "stream",
     "text": [
      "audi\n",
      "BMW\n",
      "maruti\n",
      "Benze\n"
     ]
    }
   ],
   "source": [
    "#2\n",
    "cars = [\"audi\",\"BMW\",\"maruti\",\"Benze\"]\n",
    "for a in cars:\n",
    "    print(a)"
   ]
  },
  {
   "cell_type": "code",
   "execution_count": 6,
   "id": "b997d7f9-5091-42a2-b2e3-a8359af3120f",
   "metadata": {},
   "outputs": [
    {
     "name": "stdout",
     "output_type": "stream",
     "text": [
      "apple\n",
      "mango\n"
     ]
    }
   ],
   "source": [
    "#3\n",
    "fruits = [\"apple\", \"mango\", \"cherry\"]\n",
    "for x in fruits:\n",
    "  print(x)\n",
    "  if x == \"mango\":\n",
    "    break"
   ]
  },
  {
   "cell_type": "code",
   "execution_count": 8,
   "id": "1c91047c-d76a-4120-9544-ecede46b6c58",
   "metadata": {},
   "outputs": [
    {
     "name": "stdout",
     "output_type": "stream",
     "text": [
      "audi\n",
      "BMW\n",
      "maruti\n"
     ]
    }
   ],
   "source": [
    "#4\n",
    "cars = [\"audi\",\"BMW\",\"maruti\",\"Benze\"]\n",
    "for a in cars:\n",
    "    print(a)\n",
    "    if a == \"maruti\":\n",
    "        break"
   ]
  },
  {
   "cell_type": "code",
   "execution_count": 9,
   "id": "a5ec75f8-411f-41b5-a9db-0f73091b7d23",
   "metadata": {},
   "outputs": [
    {
     "name": "stdout",
     "output_type": "stream",
     "text": [
      "anirudh\n",
      "akasha\n",
      "rahul\n"
     ]
    }
   ],
   "source": [
    "#5\n",
    "friends = [\"anirudh\",\"akasha\",\"rahul\",\"sahil\",\"om\"]\n",
    "for x in friends:\n",
    "    print(x)\n",
    "    if x == \"rahul\":\n",
    "        break"
   ]
  },
  {
   "cell_type": "code",
   "execution_count": 10,
   "id": "2a8f9fdb-2b5c-4be8-acf0-4955cc7058b4",
   "metadata": {},
   "outputs": [
    {
     "name": "stdout",
     "output_type": "stream",
     "text": [
      "anirudh\n",
      "akasha\n",
      "rahul\n",
      "sahil\n",
      "om\n"
     ]
    }
   ],
   "source": [
    "#6\n",
    "friends = [\"anirudh\",\"akasha\",\"rahul\",\"sahil\",\"om\"]\n",
    "for x in friends:\n",
    "    print(x)"
   ]
  },
  {
   "cell_type": "code",
   "execution_count": 11,
   "id": "aeb15f2a-0846-430b-a38d-41b03a863ec9",
   "metadata": {},
   "outputs": [
    {
     "name": "stdout",
     "output_type": "stream",
     "text": [
      "apple\n",
      "mango\n"
     ]
    }
   ],
   "source": [
    "#7\n",
    "fruits = [\"apple\", \"banana\", \"mango\"]\n",
    "for c in fruits:\n",
    "  if c == \"banana\":\n",
    "    continue\n",
    "  print(c)"
   ]
  },
  {
   "cell_type": "code",
   "execution_count": 2,
   "id": "57cf5ff0-0bbc-46ca-9b61-9e9bee7cdfa6",
   "metadata": {},
   "outputs": [
    {
     "name": "stdout",
     "output_type": "stream",
     "text": [
      "anirudh\n",
      "rahul\n",
      "sahil\n",
      "om\n"
     ]
    }
   ],
   "source": [
    "#8\n",
    "friends = [\"anirudh\",\"akasha\",\"rahul\",\"sahil\",\"om\"]\n",
    "for x in friends:\n",
    "  if x == \"akasha\":\n",
    "    continue\n",
    "  print(x)"
   ]
  },
  {
   "cell_type": "code",
   "execution_count": 5,
   "id": "6db967db-5676-45fd-be7d-38a28338fb18",
   "metadata": {},
   "outputs": [
    {
     "name": "stdout",
     "output_type": "stream",
     "text": [
      "jain\n",
      "Hindu\n",
      "Khrichan\n"
     ]
    }
   ],
   "source": [
    "#9\n",
    "religan = [\"jain\",\"Hindu\",\"muslim\",\"Khrichan\"]\n",
    "for d in religan:\n",
    "    if d == \"muslim\":\n",
    "        continue\n",
    "    print(d)"
   ]
  },
  {
   "cell_type": "code",
   "execution_count": 6,
   "id": "85315654-54d7-485c-a39d-442425d1996f",
   "metadata": {},
   "outputs": [
    {
     "name": "stdout",
     "output_type": "stream",
     "text": [
      "jain\n",
      "Hindu\n"
     ]
    }
   ],
   "source": [
    "#10\n",
    "religan = [\"jain\",\"Hindu\",\"muslim\",\"Khrichan\"]\n",
    "for d in religan:\n",
    "    if d == \"muslim\":\n",
    "        break\n",
    "    print(d)"
   ]
  }
 ],
 "metadata": {
  "kernelspec": {
   "display_name": "Python 3 (ipykernel)",
   "language": "python",
   "name": "python3"
  },
  "language_info": {
   "codemirror_mode": {
    "name": "ipython",
    "version": 3
   },
   "file_extension": ".py",
   "mimetype": "text/x-python",
   "name": "python",
   "nbconvert_exporter": "python",
   "pygments_lexer": "ipython3",
   "version": "3.11.7"
  }
 },
 "nbformat": 4,
 "nbformat_minor": 5
}
