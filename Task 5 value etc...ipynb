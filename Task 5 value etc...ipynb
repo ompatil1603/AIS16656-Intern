{
 "cells": [
  {
   "cell_type": "code",
   "execution_count": 3,
   "id": "0fcabd9b-3822-4fe8-ac5f-b2082bd78a05",
   "metadata": {},
   "outputs": [
    {
     "name": "stdout",
     "output_type": "stream",
     "text": [
      "B\n",
      "Fat    2\n",
      "foo    2\n",
      "bar    1\n",
      "Name: count, dtype: int64\n"
     ]
    }
   ],
   "source": [
    "import pandas as pd\n",
    "\n",
    "# Sample DataFrame\n",
    "df = pd.DataFrame({'B': ['Fat', 'Fat', 'foo', 'bar', 'foo']})\n",
    "\n",
    "# Counting unique values in column 'A'\n",
    "value_counts = df['B'].value_counts()\n",
    "print(value_counts)"
   ]
  },
  {
   "cell_type": "code",
   "execution_count": 7,
   "id": "c9dcdebf-891d-4692-a5e7-8b42323f7a2f",
   "metadata": {},
   "outputs": [
    {
     "name": "stdout",
     "output_type": "stream",
     "text": [
      "0     36\n",
      "1     64\n",
      "2     81\n",
      "3    169\n",
      "4    196\n",
      "dtype: int64\n"
     ]
    }
   ],
   "source": [
    "import pandas as pd\n",
    "\n",
    "# Sample Series\n",
    "s = pd.Series([6,8,9,13,14])\n",
    "\n",
    "# Applying a function to square each element\n",
    "s_squared = s.apply(lambda x: x ** 2)\n",
    "print(s_squared)"
   ]
  },
  {
   "cell_type": "code",
   "execution_count": 8,
   "id": "11390a36-85fa-4472-afd1-e881c260b2a8",
   "metadata": {},
   "outputs": [
    {
     "name": "stdout",
     "output_type": "stream",
     "text": [
      "['Fat' 'foo' 'bar']\n"
     ]
    }
   ],
   "source": [
    "# Unique values in column 'A'\n",
    "unique_values = df['B'].unique()\n",
    "print(unique_values)\n"
   ]
  },
  {
   "cell_type": "code",
   "execution_count": 9,
   "id": "7762fdbf-9c6a-4bf6-8264-bc7d646852b2",
   "metadata": {},
   "outputs": [
    {
     "name": "stdout",
     "output_type": "stream",
     "text": [
      "3\n"
     ]
    }
   ],
   "source": [
    "# Number of unique values in column 'A'\n",
    "num_unique = df['B'].nunique()\n",
    "print(num_unique)\n"
   ]
  },
  {
   "cell_type": "code",
   "execution_count": 10,
   "id": "b3d5e2c7-c088-4ae4-a595-b3901498c04b",
   "metadata": {},
   "outputs": [
    {
     "name": "stdout",
     "output_type": "stream",
     "text": [
      "          B\n",
      "count     5\n",
      "unique    3\n",
      "top     Fat\n",
      "freq      2\n"
     ]
    }
   ],
   "source": [
    "# Descriptive statistics of the DataFrame\n",
    "description = df.describe()\n",
    "print(description)\n"
   ]
  },
  {
   "cell_type": "code",
   "execution_count": 17,
   "id": "5715a272-a79f-4381-9173-13eda20b3679",
   "metadata": {},
   "outputs": [
    {
     "name": "stdout",
     "output_type": "stream",
     "text": [
      "B\n",
      "6     1\n",
      "9     1\n",
      "71    1\n",
      "56    1\n",
      "38    1\n",
      "49    1\n",
      "64    1\n",
      "Name: count, dtype: int64\n"
     ]
    }
   ],
   "source": [
    "\n",
    "# Sample DataFrame\n",
    "df = pd.DataFrame({'B': [6,9,71,56,38,49,64]})\n",
    "\n",
    "# Counting unique values in column 'A'\n",
    "value_counts = df['B'].value_counts()\n",
    "print(value_counts)\n"
   ]
  },
  {
   "cell_type": "code",
   "execution_count": 19,
   "id": "e113f01b-db57-4c59-b1b5-f8828cf628c0",
   "metadata": {},
   "outputs": [
    {
     "name": "stdout",
     "output_type": "stream",
     "text": [
      "A\n",
      "5     1\n",
      "9     1\n",
      "7     1\n",
      "16    1\n",
      "25    1\n",
      "39    1\n",
      "46    1\n",
      "Name: count, dtype: int64\n"
     ]
    }
   ],
   "source": [
    "# Sample DataFrame\n",
    "df = pd.DataFrame({'A': [5,9,7,16,25,39,46]})\n",
    "value_counts = df['A'].value_counts()\n",
    "print(value_counts)"
   ]
  }
 ],
 "metadata": {
  "kernelspec": {
   "display_name": "Python 3 (ipykernel)",
   "language": "python",
   "name": "python3"
  },
  "language_info": {
   "codemirror_mode": {
    "name": "ipython",
    "version": 3
   },
   "file_extension": ".py",
   "mimetype": "text/x-python",
   "name": "python",
   "nbconvert_exporter": "python",
   "pygments_lexer": "ipython3",
   "version": "3.11.7"
  }
 },
 "nbformat": 4,
 "nbformat_minor": 5
}
