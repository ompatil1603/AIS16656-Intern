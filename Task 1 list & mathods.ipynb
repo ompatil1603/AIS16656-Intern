{
 "cells": [
  {
   "cell_type": "code",
   "execution_count": 1,
   "id": "f3b8f7f9-ab93-42a0-a900-cf3d0cde3c8f",
   "metadata": {},
   "outputs": [
    {
     "data": {
      "text/plain": [
       "['apple', 20, 'banana', 60, 'cherry', 35]"
      ]
     },
     "execution_count": 1,
     "metadata": {},
     "output_type": "execute_result"
    }
   ],
   "source": [
    "#list creation \n",
    "[\"apple\",20,\"banana\",60,\"cherry\",35]"
   ]
  },
  {
   "cell_type": "code",
   "execution_count": 2,
   "id": "b06084c1-899c-4225-8688-4d5a61473cf3",
   "metadata": {},
   "outputs": [
    {
     "name": "stdout",
     "output_type": "stream",
     "text": [
      "['apple', 20, 'banana', 60, 'cherry', 35]\n"
     ]
    }
   ],
   "source": [
    "lm=[\"apple\",20,\"banana\",60,\"cherry\",35]\n",
    "print(lm)"
   ]
  },
  {
   "cell_type": "code",
   "execution_count": 3,
   "id": "854aa20b-e143-48d2-af44-a64e40d3ddcc",
   "metadata": {},
   "outputs": [
    {
     "data": {
      "text/plain": [
       "list"
      ]
     },
     "execution_count": 3,
     "metadata": {},
     "output_type": "execute_result"
    }
   ],
   "source": [
    "type(lm)"
   ]
  },
  {
   "cell_type": "code",
   "execution_count": 4,
   "id": "c2bee3f7-5aaa-4be1-9c53-0a79040eb06c",
   "metadata": {},
   "outputs": [],
   "source": [
    "#empty list\n",
    "my_l=[]"
   ]
  },
  {
   "cell_type": "code",
   "execution_count": 5,
   "id": "aa8b6658-db99-4b82-82b2-36f733b635eb",
   "metadata": {},
   "outputs": [
    {
     "data": {
      "text/plain": [
       "[]"
      ]
     },
     "execution_count": 5,
     "metadata": {},
     "output_type": "execute_result"
    }
   ],
   "source": [
    "my_l"
   ]
  },
  {
   "cell_type": "code",
   "execution_count": 7,
   "id": "f2f08405-8c60-491f-80aa-fe1ad0b33c2b",
   "metadata": {},
   "outputs": [
    {
     "name": "stdout",
     "output_type": "stream",
     "text": [
      "[2, 5, 9, 7, 1, 6]\n"
     ]
    }
   ],
   "source": [
    "#list of intergers \n",
    "my_list=[2,5,9,7,1,6]\n",
    "print(my_list)"
   ]
  },
  {
   "cell_type": "code",
   "execution_count": 8,
   "id": "be43135d-bf6a-452e-b0db-adf30a85ce7d",
   "metadata": {},
   "outputs": [
    {
     "name": "stdout",
     "output_type": "stream",
     "text": [
      "[1, 4, 9, 'OM', 3, 8, 'MYSELF', 5]\n"
     ]
    }
   ],
   "source": [
    "# list with mixed datatypes\n",
    "my_list=[1,4,9,\"OM\",3,8,\"MYSELF\",5]\n",
    "print(my_list)"
   ]
  },
  {
   "cell_type": "code",
   "execution_count": 10,
   "id": "6775a0e1-4a69-45d3-8b99-3171cc8f7d2d",
   "metadata": {},
   "outputs": [
    {
     "name": "stdout",
     "output_type": "stream",
     "text": [
      "[['mouse', 9, 2, 3], 7, ['b']]\n"
     ]
    }
   ],
   "source": [
    "# nested list \n",
    "list=[[\"mouse\",9,2,3],7,['b']]\n",
    "print(list)"
   ]
  },
  {
   "cell_type": "code",
   "execution_count": 12,
   "id": "9c641ccc-e873-4241-b31a-0cb20186c219",
   "metadata": {},
   "outputs": [
    {
     "data": {
      "text/plain": [
       "'apple'"
      ]
     },
     "execution_count": 12,
     "metadata": {},
     "output_type": "execute_result"
    }
   ],
   "source": [
    "#accesing items\n",
    "lm[0]"
   ]
  },
  {
   "cell_type": "code",
   "execution_count": 13,
   "id": "6f09fc0f-e72f-4d9c-b496-3c560c8e0460",
   "metadata": {},
   "outputs": [
    {
     "data": {
      "text/plain": [
       "60"
      ]
     },
     "execution_count": 13,
     "metadata": {},
     "output_type": "execute_result"
    }
   ],
   "source": [
    "lm[3]"
   ]
  },
  {
   "cell_type": "code",
   "execution_count": 14,
   "id": "433c8e23-c969-4b0f-aa0a-91d663cfeb0b",
   "metadata": {},
   "outputs": [
    {
     "data": {
      "text/plain": [
       "8"
      ]
     },
     "execution_count": 14,
     "metadata": {},
     "output_type": "execute_result"
    }
   ],
   "source": [
    "my_list[5]"
   ]
  },
  {
   "cell_type": "code",
   "execution_count": 18,
   "id": "cdf30aaf-42c3-49bf-a6f6-2d80c63086c0",
   "metadata": {},
   "outputs": [
    {
     "data": {
      "text/plain": [
       "['a', 'n', 'p', 'x', 't']"
      ]
     },
     "execution_count": 18,
     "metadata": {},
     "output_type": "execute_result"
    }
   ],
   "source": [
    "list=['a','n','p','x','t']\n",
    "list"
   ]
  },
  {
   "cell_type": "code",
   "execution_count": 20,
   "id": "fdb70495-7cc6-463e-b314-35ace91a5d53",
   "metadata": {},
   "outputs": [
    {
     "data": {
      "text/plain": [
       "'n'"
      ]
     },
     "execution_count": 20,
     "metadata": {},
     "output_type": "execute_result"
    }
   ],
   "source": [
    "#+ve start zero\n",
    "#-ve start -1\n",
    "list[-4]"
   ]
  },
  {
   "cell_type": "code",
   "execution_count": 21,
   "id": "2d30e1c1-f858-4219-a4dc-4159f2009979",
   "metadata": {},
   "outputs": [
    {
     "data": {
      "text/plain": [
       "'x'"
      ]
     },
     "execution_count": 21,
     "metadata": {},
     "output_type": "execute_result"
    }
   ],
   "source": [
    "list[3]"
   ]
  },
  {
   "cell_type": "code",
   "execution_count": 22,
   "id": "7087c42e-351f-497b-8002-6c7a592c1080",
   "metadata": {},
   "outputs": [],
   "source": [
    "lm_list=['a','e','q','o','g','t']"
   ]
  },
  {
   "cell_type": "code",
   "execution_count": 24,
   "id": "b516a84f-2748-446e-a94d-3fb03f9d9141",
   "metadata": {},
   "outputs": [
    {
     "data": {
      "text/plain": [
       "['a', 'e', 'q', 'o', 'g', 't']"
      ]
     },
     "execution_count": 24,
     "metadata": {},
     "output_type": "execute_result"
    }
   ],
   "source": [
    "lm_list[:]"
   ]
  },
  {
   "cell_type": "code",
   "execution_count": 25,
   "id": "a0133415-2eab-4136-9fde-a42c3cb790eb",
   "metadata": {},
   "outputs": [
    {
     "data": {
      "text/plain": [
       "['q', 'o']"
      ]
     },
     "execution_count": 25,
     "metadata": {},
     "output_type": "execute_result"
    }
   ],
   "source": [
    "lm_list[2:4]"
   ]
  },
  {
   "cell_type": "code",
   "execution_count": 3,
   "id": "de6931ca-b143-4f5a-9e5b-009ebfeda2f4",
   "metadata": {},
   "outputs": [],
   "source": [
    "#Nested list \n",
    "n_list=[\"Patil\",[2,0,5,[9]]]"
   ]
  },
  {
   "cell_type": "code",
   "execution_count": 4,
   "id": "2d814ff5-84b4-4e1c-a64b-4ddad6baecb9",
   "metadata": {},
   "outputs": [
    {
     "data": {
      "text/plain": [
       "9"
      ]
     },
     "execution_count": 4,
     "metadata": {},
     "output_type": "execute_result"
    }
   ],
   "source": [
    "n_list[-1][2][-1]"
   ]
  },
  {
   "cell_type": "code",
   "execution_count": 29,
   "id": "7f6f76b2-2f83-4b57-a59a-fcdf76f2c32e",
   "metadata": {},
   "outputs": [
    {
     "name": "stdout",
     "output_type": "stream",
     "text": [
      "['g', 't']\n"
     ]
    }
   ],
   "source": [
    "#element 4th to end \n",
    "print(lm_list[4:])"
   ]
  },
  {
   "cell_type": "code",
   "execution_count": 34,
   "id": "85e37b9d-dd00-49af-b5b9-5b8a7a6920ce",
   "metadata": {},
   "outputs": [],
   "source": [
    "lm[3]=\"Patil\""
   ]
  },
  {
   "cell_type": "code",
   "execution_count": 35,
   "id": "81dac0d3-2a3b-40c3-9893-14ebdf589a34",
   "metadata": {},
   "outputs": [
    {
     "data": {
      "text/plain": [
       "['apple', 'Patil', 'Patil', 'Patil', 'cherry', 35]"
      ]
     },
     "execution_count": 35,
     "metadata": {},
     "output_type": "execute_result"
    }
   ],
   "source": [
    "lm"
   ]
  },
  {
   "cell_type": "code",
   "execution_count": 1,
   "id": "63cfa59e-bc9e-4b39-ac67-af49f6d22a74",
   "metadata": {},
   "outputs": [
    {
     "data": {
      "text/plain": [
       "[5, 46, 54, 61, 67, 82]"
      ]
     },
     "execution_count": 1,
     "metadata": {},
     "output_type": "execute_result"
    }
   ],
   "source": [
    "#1-append()-appends an element to the end of the list.\n",
    "x=[\"apple\",\"banana\",\"cherry\",1,2,3]\n",
    "x.append(\"apple\")\n",
    "y=[5,46,82,61,54,67]\n",
    "y.sort()\n",
    "y"
   ]
  },
  {
   "cell_type": "code",
   "execution_count": 4,
   "id": "88f04a7e-c871-4853-9a0f-c6adaf9daaed",
   "metadata": {},
   "outputs": [
    {
     "data": {
      "text/plain": [
       "1"
      ]
     },
     "execution_count": 4,
     "metadata": {},
     "output_type": "execute_result"
    }
   ],
   "source": [
    "x.count(\"banana\")"
   ]
  },
  {
   "cell_type": "code",
   "execution_count": 6,
   "id": "5be83042-e430-4279-820e-2b7bb56c55f3",
   "metadata": {},
   "outputs": [
    {
     "data": {
      "text/plain": [
       "['apple', 'banana', 'cherry', 1, 2, 3]"
      ]
     },
     "execution_count": 6,
     "metadata": {},
     "output_type": "execute_result"
    }
   ],
   "source": [
    "x.pop(-1)\n",
    "x"
   ]
  },
  {
   "cell_type": "code",
   "execution_count": 7,
   "id": "cf0b96cf-56da-462f-96c2-8d3d7d2bda83",
   "metadata": {},
   "outputs": [
    {
     "data": {
      "text/plain": [
       "['apple', 'banana', 'cherry', 1, 2, 3]"
      ]
     },
     "execution_count": 7,
     "metadata": {},
     "output_type": "execute_result"
    }
   ],
   "source": [
    "# x.clear()\n",
    "x"
   ]
  },
  {
   "cell_type": "code",
   "execution_count": 8,
   "id": "c1ba83d3-4e49-4872-b999-1cf1c72e0538",
   "metadata": {},
   "outputs": [
    {
     "data": {
      "text/plain": [
       "['apple', 'banana', 'cherry', 1, 2, 3]"
      ]
     },
     "execution_count": 8,
     "metadata": {},
     "output_type": "execute_result"
    }
   ],
   "source": [
    "x1=x.copy()\n",
    "x1"
   ]
  },
  {
   "cell_type": "code",
   "execution_count": 9,
   "id": "0b86388f-eb03-48da-9399-6d12a37b9cd9",
   "metadata": {},
   "outputs": [
    {
     "data": {
      "text/plain": [
       "[3, 2, 1, 'cherry', 'banana', 'apple']"
      ]
     },
     "execution_count": 9,
     "metadata": {},
     "output_type": "execute_result"
    }
   ],
   "source": [
    "x.reverse()\n",
    "x"
   ]
  },
  {
   "cell_type": "code",
   "execution_count": 10,
   "id": "de936fd8-75f6-4278-b0d4-3f1fc33994b8",
   "metadata": {},
   "outputs": [
    {
     "data": {
      "text/plain": [
       "4"
      ]
     },
     "execution_count": 10,
     "metadata": {},
     "output_type": "execute_result"
    }
   ],
   "source": [
    "x.index(\"banana\")"
   ]
  },
  {
   "cell_type": "code",
   "execution_count": 11,
   "id": "1afd99cc-5db8-44e2-bfa0-84928ded2c70",
   "metadata": {},
   "outputs": [
    {
     "data": {
      "text/plain": [
       "[3, 2, 1, 'cherry', 'banana', 'apple', [100, 200, 300]]"
      ]
     },
     "execution_count": 11,
     "metadata": {},
     "output_type": "execute_result"
    }
   ],
   "source": [
    "# append : only one value\n",
    "# Extend : more than 2 value\n",
    "\n",
    "x.append([100,200,300])\n",
    "x"
   ]
  },
  {
   "cell_type": "code",
   "execution_count": 12,
   "id": "399b6146-13d9-4522-a210-5f4da7147acd",
   "metadata": {},
   "outputs": [
    {
     "name": "stdout",
     "output_type": "stream",
     "text": [
      "[1, 2, 3]\n"
     ]
    }
   ],
   "source": [
    "#2-clear()-removes all the elements from a list\n",
    "fruits=[1,2,3]\n",
    "print(fruits)"
   ]
  },
  {
   "cell_type": "code",
   "execution_count": 14,
   "id": "1091e887-c15b-43bc-a17c-30e14b0632d4",
   "metadata": {},
   "outputs": [],
   "source": [
    "#3-copy()-returns a copy of the specified list\n",
    "fruits = ['apple', 'banana', 'cherry', 'orange',\"cherry\"]"
   ]
  },
  {
   "cell_type": "code",
   "execution_count": 15,
   "id": "5fd1bfbb-0774-4221-b598-11835569492f",
   "metadata": {},
   "outputs": [
    {
     "data": {
      "text/plain": [
       "['apple', 'banana', 'cherry', 'orange', 'cherry']"
      ]
     },
     "execution_count": 15,
     "metadata": {},
     "output_type": "execute_result"
    }
   ],
   "source": [
    "f2=fruits.copy()\n",
    "f2"
   ]
  },
  {
   "cell_type": "code",
   "execution_count": 17,
   "id": "d9996627-0b4c-49e6-9d2b-32eb9e2a7994",
   "metadata": {},
   "outputs": [
    {
     "data": {
      "text/plain": [
       "1839944716992"
      ]
     },
     "execution_count": 17,
     "metadata": {},
     "output_type": "execute_result"
    }
   ],
   "source": [
    "id(f2)"
   ]
  },
  {
   "cell_type": "code",
   "execution_count": 18,
   "id": "693afb50-f062-4738-8ca4-d06832fa4434",
   "metadata": {},
   "outputs": [
    {
     "data": {
      "text/plain": [
       "1839944724544"
      ]
     },
     "execution_count": 18,
     "metadata": {},
     "output_type": "execute_result"
    }
   ],
   "source": [
    "id(fruits)"
   ]
  },
  {
   "cell_type": "code",
   "execution_count": 19,
   "id": "701354fc-86d0-4187-a9d9-03ead5cc4d7b",
   "metadata": {},
   "outputs": [
    {
     "data": {
      "text/plain": [
       "['apple', 'banana', 'cherry', 'orange', 'cherry']"
      ]
     },
     "execution_count": 19,
     "metadata": {},
     "output_type": "execute_result"
    }
   ],
   "source": [
    "fruits"
   ]
  },
  {
   "cell_type": "code",
   "execution_count": 20,
   "id": "1134ae12-1228-4e36-866d-4090cd912064",
   "metadata": {},
   "outputs": [
    {
     "data": {
      "text/plain": [
       "'apple'"
      ]
     },
     "execution_count": 20,
     "metadata": {},
     "output_type": "execute_result"
    }
   ],
   "source": [
    "fruits.pop(0)"
   ]
  },
  {
   "cell_type": "code",
   "execution_count": 21,
   "id": "5cff6121-be55-4d7d-862e-2189279c4c6c",
   "metadata": {},
   "outputs": [
    {
     "data": {
      "text/plain": [
       "['banana', 'cherry', 'orange', 'cherry']"
      ]
     },
     "execution_count": 21,
     "metadata": {},
     "output_type": "execute_result"
    }
   ],
   "source": [
    "fruits"
   ]
  },
  {
   "cell_type": "code",
   "execution_count": 22,
   "id": "95bf5268-520e-4f75-a9af-3895897297c9",
   "metadata": {},
   "outputs": [
    {
     "data": {
      "text/plain": [
       "['apple', 'banana', 'cherry', 'orange', 'cherry']"
      ]
     },
     "execution_count": 22,
     "metadata": {},
     "output_type": "execute_result"
    }
   ],
   "source": [
    "f2"
   ]
  },
  {
   "cell_type": "code",
   "execution_count": 23,
   "id": "3ce9a606-8d98-462d-8611-ed17880268e2",
   "metadata": {},
   "outputs": [
    {
     "data": {
      "text/plain": [
       "2"
      ]
     },
     "execution_count": 23,
     "metadata": {},
     "output_type": "execute_result"
    }
   ],
   "source": [
    "#4-count()-returns the number of elements with the specified value\n",
    "fruits.count(\"cherry\")"
   ]
  },
  {
   "cell_type": "code",
   "execution_count": 30,
   "id": "94a1e0f4-e2f5-467b-8000-b0334dbe2e0b",
   "metadata": {},
   "outputs": [],
   "source": [
    "fruits = ['apple', 'banana', 'orange',\"cherry\"]"
   ]
  },
  {
   "cell_type": "code",
   "execution_count": 31,
   "id": "eb18a141-70c6-4571-bda1-553d072220bc",
   "metadata": {},
   "outputs": [
    {
     "data": {
      "text/plain": [
       "['Ford', 'BMW', 'Audi']"
      ]
     },
     "execution_count": 31,
     "metadata": {},
     "output_type": "execute_result"
    }
   ],
   "source": [
    "#5-extend()-adds the specified list elements (or any iterable) to the end o\n",
    "cars = ['Ford', 'BMW', 'Audi']\n",
    "cars"
   ]
  },
  {
   "cell_type": "code",
   "execution_count": 32,
   "id": "74b5fe2b-be3e-4915-9564-d331d2f64357",
   "metadata": {},
   "outputs": [
    {
     "data": {
      "text/plain": [
       "['apple', 'banana', 'orange', 'cherry', ['Ford', 'BMW', 'Audi']]"
      ]
     },
     "execution_count": 32,
     "metadata": {},
     "output_type": "execute_result"
    }
   ],
   "source": [
    "fruits.append(cars)\n",
    "fruits"
   ]
  },
  {
   "cell_type": "code",
   "execution_count": 33,
   "id": "57e02dac-7302-4af0-bf84-1d00676e468c",
   "metadata": {},
   "outputs": [
    {
     "data": {
      "text/plain": [
       "5"
      ]
     },
     "execution_count": 33,
     "metadata": {},
     "output_type": "execute_result"
    }
   ],
   "source": [
    "len(fruits)"
   ]
  },
  {
   "cell_type": "code",
   "execution_count": 34,
   "id": "812e250d-2419-4dd2-8bf3-e88cc45c1c57",
   "metadata": {},
   "outputs": [
    {
     "data": {
      "text/plain": [
       "['apple',\n",
       " 'banana',\n",
       " 'orange',\n",
       " 'cherry',\n",
       " ['Ford', 'BMW', 'Audi'],\n",
       " 'Ford',\n",
       " 'BMW',\n",
       " 'Audi']"
      ]
     },
     "execution_count": 34,
     "metadata": {},
     "output_type": "execute_result"
    }
   ],
   "source": [
    "fruits.extend(cars)\n",
    "fruits"
   ]
  },
  {
   "cell_type": "code",
   "execution_count": 35,
   "id": "696f7ca7-137d-4a2e-b0ef-90f61e52d2b8",
   "metadata": {},
   "outputs": [
    {
     "data": {
      "text/plain": [
       "0"
      ]
     },
     "execution_count": 35,
     "metadata": {},
     "output_type": "execute_result"
    }
   ],
   "source": [
    "#6-index()-returns the position at the first occurrence of the specified va\n",
    "fruits.index(\"apple\")"
   ]
  },
  {
   "cell_type": "code",
   "execution_count": 36,
   "id": "46cf66b5-25cf-4c19-bd70-6f105e5ea4f8",
   "metadata": {},
   "outputs": [],
   "source": [
    "#7-insert()-inserts the specified value at the specified position\n",
    "fruits.insert(0,\"Kolhapur\")"
   ]
  },
  {
   "cell_type": "code",
   "execution_count": 37,
   "id": "f7f2998c-8399-4d0b-8723-04d305f6126c",
   "metadata": {},
   "outputs": [
    {
     "name": "stdout",
     "output_type": "stream",
     "text": [
      "['Kolhapur', 'apple', 'banana', 'orange', 'cherry', ['Ford', 'BMW', 'Audi'], 'Ford', 'BMW', 'Audi']\n"
     ]
    }
   ],
   "source": [
    "print(fruits)"
   ]
  },
  {
   "cell_type": "code",
   "execution_count": 38,
   "id": "a2a140f6-6fa0-4890-adc2-880f49ff81d2",
   "metadata": {},
   "outputs": [
    {
     "data": {
      "text/plain": [
       "['Kolhapur',\n",
       " 'apple',\n",
       " 'banana',\n",
       " 'orange',\n",
       " 'cherry',\n",
       " ['Ford', 'BMW', 'Audi'],\n",
       " 'Ford',\n",
       " 'BMW',\n",
       " 'Audi']"
      ]
     },
     "execution_count": 38,
     "metadata": {},
     "output_type": "execute_result"
    }
   ],
   "source": [
    "fruits"
   ]
  },
  {
   "cell_type": "code",
   "execution_count": 40,
   "id": "30295831-5917-47c7-8d9c-1dd8eb28aa0f",
   "metadata": {},
   "outputs": [
    {
     "data": {
      "text/plain": [
       "['Ford', 'BMW', 'Audi']"
      ]
     },
     "execution_count": 40,
     "metadata": {},
     "output_type": "execute_result"
    }
   ],
   "source": [
    "#position : pop\n",
    "#value: remove\n",
    "#8-pop()-removes the element at the specified position\n",
    "fruits.pop(4)"
   ]
  },
  {
   "cell_type": "code",
   "execution_count": 42,
   "id": "98ef62ec-7596-4598-a103-2ee026aa713e",
   "metadata": {},
   "outputs": [],
   "source": [
    "#9-remove()-removes the specified item\n",
    "thislist = [\"apple\", \"banana\", \"cherry\"]"
   ]
  },
  {
   "cell_type": "code",
   "execution_count": 43,
   "id": "6c50a7c3-1c18-49f3-9510-209a2ec3fad4",
   "metadata": {},
   "outputs": [
    {
     "data": {
      "text/plain": [
       "['apple', 'banana', 'cherry']"
      ]
     },
     "execution_count": 43,
     "metadata": {},
     "output_type": "execute_result"
    }
   ],
   "source": [
    "thislist"
   ]
  },
  {
   "cell_type": "code",
   "execution_count": 44,
   "id": "9408b623-3623-4ddd-8554-87d2b861f8b9",
   "metadata": {},
   "outputs": [
    {
     "data": {
      "text/plain": [
       "[5, 4, 3, 2, 1]"
      ]
     },
     "execution_count": 44,
     "metadata": {},
     "output_type": "execute_result"
    }
   ],
   "source": [
    "r=[1,2,3,4,5]\n",
    "r.reverse()\n",
    "r"
   ]
  }
 ],
 "metadata": {
  "kernelspec": {
   "display_name": "Python 3 (ipykernel)",
   "language": "python",
   "name": "python3"
  },
  "language_info": {
   "codemirror_mode": {
    "name": "ipython",
    "version": 3
   },
   "file_extension": ".py",
   "mimetype": "text/x-python",
   "name": "python",
   "nbconvert_exporter": "python",
   "pygments_lexer": "ipython3",
   "version": "3.11.7"
  }
 },
 "nbformat": 4,
 "nbformat_minor": 5
}
