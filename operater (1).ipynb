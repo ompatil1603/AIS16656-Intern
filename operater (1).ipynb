{
 "cells": [
  {
   "cell_type": "code",
   "execution_count": 59,
   "id": "c0544a18-70c6-4fef-98c8-7ff400c64ab7",
   "metadata": {},
   "outputs": [
    {
     "data": {
      "text/plain": [
       "3.75"
      ]
     },
     "execution_count": 59,
     "metadata": {},
     "output_type": "execute_result"
    }
   ],
   "source": [
    "#arithmatic operater \n",
    "15/4"
   ]
  },
  {
   "cell_type": "code",
   "execution_count": 3,
   "id": "57e4cd53-4e4d-44a5-adbd-ff2c12ec33db",
   "metadata": {},
   "outputs": [
    {
     "name": "stdout",
     "output_type": "stream",
     "text": [
      "70\n"
     ]
    }
   ],
   "source": [
    "#assingment operator \n",
    "x=60\n",
    "x+=10\n",
    "print(x)"
   ]
  },
  {
   "cell_type": "code",
   "execution_count": 11,
   "id": "2c5b9c23-c425-42fd-90e5-6e982d4369f9",
   "metadata": {},
   "outputs": [
    {
     "name": "stdout",
     "output_type": "stream",
     "text": [
      "30\n"
     ]
    }
   ],
   "source": [
    "x=40\n",
    "x-=10\n",
    "print(x)"
   ]
  },
  {
   "cell_type": "code",
   "execution_count": 52,
   "id": "c2bed1db-6e82-4704-89f7-92e00eba1a97",
   "metadata": {},
   "outputs": [],
   "source": [
    "x+=5"
   ]
  },
  {
   "cell_type": "code",
   "execution_count": 12,
   "id": "8135b217-f00a-4f9e-9214-3f390b9d7728",
   "metadata": {},
   "outputs": [
    {
     "data": {
      "text/plain": [
       "20"
      ]
     },
     "execution_count": 12,
     "metadata": {},
     "output_type": "execute_result"
    }
   ],
   "source": [
    "a=10\n",
    "a=a+10\n",
    "a"
   ]
  },
  {
   "cell_type": "code",
   "execution_count": 15,
   "id": "e3cf212b-e914-408e-be00-dbf767d05bc1",
   "metadata": {},
   "outputs": [],
   "source": [
    "a+=5"
   ]
  },
  {
   "cell_type": "code",
   "execution_count": 16,
   "id": "4e8ebe14-c486-4a9d-a502-55dba8517523",
   "metadata": {},
   "outputs": [
    {
     "data": {
      "text/plain": [
       "35"
      ]
     },
     "execution_count": 16,
     "metadata": {},
     "output_type": "execute_result"
    }
   ],
   "source": [
    "a"
   ]
  },
  {
   "cell_type": "code",
   "execution_count": 18,
   "id": "7715af38-b55c-40f5-b8d1-c69111345c8d",
   "metadata": {},
   "outputs": [
    {
     "data": {
      "text/plain": [
       "False"
      ]
     },
     "execution_count": 18,
     "metadata": {},
     "output_type": "execute_result"
    }
   ],
   "source": [
    "#comparision Operater\n",
    "2!=2"
   ]
  },
  {
   "cell_type": "code",
   "execution_count": 19,
   "id": "bab34634-1a16-42ea-a47f-92f236a376a9",
   "metadata": {},
   "outputs": [
    {
     "data": {
      "text/plain": [
       "True"
      ]
     },
     "execution_count": 19,
     "metadata": {},
     "output_type": "execute_result"
    }
   ],
   "source": [
    "5<=5"
   ]
  },
  {
   "cell_type": "code",
   "execution_count": 21,
   "id": "6a760f4f-6824-4005-8701-2dcd273a0d67",
   "metadata": {},
   "outputs": [
    {
     "data": {
      "text/plain": [
       "True"
      ]
     },
     "execution_count": 21,
     "metadata": {},
     "output_type": "execute_result"
    }
   ],
   "source": [
    "9>=5"
   ]
  },
  {
   "cell_type": "code",
   "execution_count": 22,
   "id": "8cfc223b-f338-4850-ac84-4785faa2aeb7",
   "metadata": {},
   "outputs": [
    {
     "data": {
      "text/plain": [
       "False"
      ]
     },
     "execution_count": 22,
     "metadata": {},
     "output_type": "execute_result"
    }
   ],
   "source": [
    "10<=9"
   ]
  },
  {
   "cell_type": "code",
   "execution_count": 23,
   "id": "30f3813c-62b3-49c6-8c9e-5f59c3e7aa17",
   "metadata": {},
   "outputs": [
    {
     "data": {
      "text/plain": [
       "True"
      ]
     },
     "execution_count": 23,
     "metadata": {},
     "output_type": "execute_result"
    }
   ],
   "source": [
    "#logical operater \n",
    "x=3;\n",
    "x<5 or x<2"
   ]
  },
  {
   "cell_type": "code",
   "execution_count": 24,
   "id": "9873710a-8ce9-4867-804c-3fd61fb19d0b",
   "metadata": {},
   "outputs": [
    {
     "data": {
      "text/plain": [
       "True"
      ]
     },
     "execution_count": 24,
     "metadata": {},
     "output_type": "execute_result"
    }
   ],
   "source": [
    "x=15;\n",
    "x<20 or x>10"
   ]
  },
  {
   "cell_type": "code",
   "execution_count": 25,
   "id": "c8b6c01a-170f-4a74-ab18-cfd739b008b4",
   "metadata": {},
   "outputs": [
    {
     "data": {
      "text/plain": [
       "True"
      ]
     },
     "execution_count": 25,
     "metadata": {},
     "output_type": "execute_result"
    }
   ],
   "source": [
    "#not logical \n",
    "x=6;\n",
    "not(x<10 and x<4)"
   ]
  },
  {
   "cell_type": "code",
   "execution_count": 80,
   "id": "232ba28e-d496-4fc0-8f52-2301089615a3",
   "metadata": {},
   "outputs": [],
   "source": [
    "#identity Operators \n",
    "x=50"
   ]
  },
  {
   "cell_type": "code",
   "execution_count": 75,
   "id": "d4af14eb-bfbc-451a-bc53-0f9cd53f209a",
   "metadata": {},
   "outputs": [
    {
     "name": "stderr",
     "output_type": "stream",
     "text": [
      "<>:1: SyntaxWarning: \"is\" with a literal. Did you mean \"==\"?\n",
      "<>:1: SyntaxWarning: \"is\" with a literal. Did you mean \"==\"?\n",
      "C:\\Users\\spsha\\AppData\\Local\\Temp\\ipykernel_10304\\3425475889.py:1: SyntaxWarning: \"is\" with a literal. Did you mean \"==\"?\n",
      "  x is 50\n"
     ]
    },
    {
     "data": {
      "text/plain": [
       "True"
      ]
     },
     "execution_count": 75,
     "metadata": {},
     "output_type": "execute_result"
    }
   ],
   "source": [
    "x is 50"
   ]
  },
  {
   "cell_type": "code",
   "execution_count": 79,
   "id": "31bfb543-443f-4199-93e0-8ee18fb0ec06",
   "metadata": {},
   "outputs": [
    {
     "name": "stderr",
     "output_type": "stream",
     "text": [
      "<>:1: SyntaxWarning: \"is not\" with a literal. Did you mean \"!=\"?\n",
      "<>:1: SyntaxWarning: \"is not\" with a literal. Did you mean \"!=\"?\n",
      "C:\\Users\\spsha\\AppData\\Local\\Temp\\ipykernel_10304\\218090364.py:1: SyntaxWarning: \"is not\" with a literal. Did you mean \"!=\"?\n",
      "  x is not 50\n"
     ]
    },
    {
     "data": {
      "text/plain": [
       "False"
      ]
     },
     "execution_count": 79,
     "metadata": {},
     "output_type": "execute_result"
    }
   ],
   "source": [
    "x is not 50"
   ]
  },
  {
   "cell_type": "code",
   "execution_count": 54,
   "id": "c371c136-ce7d-4ff6-87a3-80d163a36ae7",
   "metadata": {},
   "outputs": [
    {
     "data": {
      "text/plain": [
       "True"
      ]
     },
     "execution_count": 54,
     "metadata": {},
     "output_type": "execute_result"
    }
   ],
   "source": [
    "x!=50"
   ]
  },
  {
   "cell_type": "code",
   "execution_count": 55,
   "id": "62b155ef-56f3-495b-ab4c-84bf205c4f78",
   "metadata": {},
   "outputs": [],
   "source": [
    "#membership opraters\n",
    "x=(1,34,30,25,21,9)"
   ]
  },
  {
   "cell_type": "code",
   "execution_count": 56,
   "id": "5d8c51ab-ad93-4699-9a05-fa39c67fe64a",
   "metadata": {},
   "outputs": [
    {
     "data": {
      "text/plain": [
       "True"
      ]
     },
     "execution_count": 56,
     "metadata": {},
     "output_type": "execute_result"
    }
   ],
   "source": [
    "31 not in x"
   ]
  },
  {
   "cell_type": "code",
   "execution_count": 57,
   "id": "daefd56e-2a1e-4545-9d7e-12e5a5179290",
   "metadata": {},
   "outputs": [
    {
     "data": {
      "text/plain": [
       "True"
      ]
     },
     "execution_count": 57,
     "metadata": {},
     "output_type": "execute_result"
    }
   ],
   "source": [
    "21 in x"
   ]
  },
  {
   "cell_type": "code",
   "execution_count": 58,
   "id": "19b86717-c497-4574-9e29-a3e8d6575b83",
   "metadata": {},
   "outputs": [
    {
     "data": {
      "text/plain": [
       "False"
      ]
     },
     "execution_count": 58,
     "metadata": {},
     "output_type": "execute_result"
    }
   ],
   "source": [
    "32 in x"
   ]
  }
 ],
 "metadata": {
  "kernelspec": {
   "display_name": "Python 3 (ipykernel)",
   "language": "python",
   "name": "python3"
  },
  "language_info": {
   "codemirror_mode": {
    "name": "ipython",
    "version": 3
   },
   "file_extension": ".py",
   "mimetype": "text/x-python",
   "name": "python",
   "nbconvert_exporter": "python",
   "pygments_lexer": "ipython3",
   "version": "3.11.7"
  }
 },
 "nbformat": 4,
 "nbformat_minor": 5
}
