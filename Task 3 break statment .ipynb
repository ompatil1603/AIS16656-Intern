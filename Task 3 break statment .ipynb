{
 "cells": [
  {
   "cell_type": "markdown",
   "id": "3830cb00-b8c0-4217-9f0e-3faa2a3abfb7",
   "metadata": {},
   "source": [
    "The break Statement\n",
    "defination\n",
    "With the break statement we can stop the loop before it has looped through all the items"
   ]
  },
  {
   "cell_type": "code",
   "execution_count": 4,
   "id": "c30fd53e-f21e-49e2-b271-485b1bd3ae89",
   "metadata": {},
   "outputs": [
    {
     "name": "stdout",
     "output_type": "stream",
     "text": [
      "apple\n",
      "banana\n"
     ]
    }
   ],
   "source": [
    "#1\n",
    "fruits = [\"apple\", \"banana\", \"cherry\"]\n",
    "for x in fruits:\n",
    "  print(x)\n",
    "  if x == \"banana\":\n",
    "    break"
   ]
  },
  {
   "cell_type": "code",
   "execution_count": 5,
   "id": "460964e3-0343-431c-a7ac-36bf7d75dc9d",
   "metadata": {},
   "outputs": [
    {
     "name": "stdout",
     "output_type": "stream",
     "text": [
      "1\n",
      "2\n",
      "3\n"
     ]
    }
   ],
   "source": [
    "#2\n",
    "i = 1\n",
    "while i < 6:\n",
    "  print(i)\n",
    "  if i == 3:\n",
    "    break\n",
    "  i += 1"
   ]
  },
  {
   "cell_type": "code",
   "execution_count": 6,
   "id": "79512080-a5d2-4d3f-a35a-494d65ebc4ef",
   "metadata": {},
   "outputs": [
    {
     "name": "stdout",
     "output_type": "stream",
     "text": [
      "audi\n",
      "BMW\n",
      "maruti\n"
     ]
    }
   ],
   "source": [
    "#3\n",
    "cars = [\"audi\",\"BMW\",\"maruti\",\"Benze\"]\n",
    "for a in cars:\n",
    "    print(a)\n",
    "    if a == \"maruti\":\n",
    "        break"
   ]
  }
 ],
 "metadata": {
  "kernelspec": {
   "display_name": "Python 3 (ipykernel)",
   "language": "python",
   "name": "python3"
  },
  "language_info": {
   "codemirror_mode": {
    "name": "ipython",
    "version": 3
   },
   "file_extension": ".py",
   "mimetype": "text/x-python",
   "name": "python",
   "nbconvert_exporter": "python",
   "pygments_lexer": "ipython3",
   "version": "3.11.7"
  }
 },
 "nbformat": 4,
 "nbformat_minor": 5
}
