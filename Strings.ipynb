{
 "cells": [
  {
   "cell_type": "code",
   "execution_count": 1,
   "id": "3cf0a8d3-b975-4aa0-8acd-524876d36c15",
   "metadata": {},
   "outputs": [
    {
     "name": "stdout",
     "output_type": "stream",
     "text": [
      "Hello\n",
      "Hello\n"
     ]
    }
   ],
   "source": [
    "#Strings\n",
    "#Strings in python are surrounded by either single quotation marks, or double quotation marks.\n",
    "print(\"Hello\")\n",
    "print('Hello')"
   ]
  },
  {
   "cell_type": "code",
   "execution_count": 2,
   "id": "979bcc31-51db-445e-995a-1b86bf6b31c7",
   "metadata": {},
   "outputs": [
    {
     "name": "stdout",
     "output_type": "stream",
     "text": [
      "It's all about you\n",
      "He is called 'OM'\n",
      "He is called \"OM\"\n"
     ]
    }
   ],
   "source": [
    "#Quotes Inside Quotes\n",
    "#You can use quotes inside a string, as long as they don't match the quotes surrounding the string\n",
    "print(\"It's all about you\")\n",
    "print(\"He is called 'OM'\")\n",
    "print('He is called \"OM\"')"
   ]
  },
  {
   "cell_type": "code",
   "execution_count": 3,
   "id": "ec474f50-1447-4000-a82e-c54ef7b5df7e",
   "metadata": {},
   "outputs": [
    {
     "name": "stdout",
     "output_type": "stream",
     "text": [
      "all about me\n"
     ]
    }
   ],
   "source": [
    "#Assign String to a Variable\n",
    "#Assigning a string to a variable is done with the variable name followed by an equal sign and the string:\n",
    "a = \"all about me\"\n",
    "print(a)"
   ]
  },
  {
   "cell_type": "code",
   "execution_count": 4,
   "id": "37cefd6a-c583-4c1a-816a-8ed6bb5460ae",
   "metadata": {},
   "outputs": [
    {
     "name": "stdout",
     "output_type": "stream",
     "text": [
      "She is my good friend and cares for me a lot. \n",
      "She behaves me well and helps always. \n",
      "I met her in class 6 and became best friend. \n",
      "She is my true friend because she understands me very well and cares for my every need.\n"
     ]
    }
   ],
   "source": [
    "#Multiline Strings\n",
    "#You can assign a multiline string to a variable by using three quotes:\n",
    "a = \"\"\"She is my good friend and cares for me a lot. \n",
    "She behaves me well and helps always. \n",
    "I met her in class 6 and became best friend. \n",
    "She is my true friend because she understands me very well and cares for my every need.\"\"\"\n",
    "print(a)"
   ]
  },
  {
   "cell_type": "code",
   "execution_count": 5,
   "id": "cd1a55f9-96b1-4e7d-9bf2-1ed4dc714d6d",
   "metadata": {},
   "outputs": [
    {
     "name": "stdout",
     "output_type": "stream",
     "text": [
      "She is my good friend and cares for me a lot. \n",
      "She behaves me well and helps always. \n",
      "I met her in class 6 and became best friend. \n",
      "She is my true friend because she understands me very well and cares for my every need.\n"
     ]
    }
   ],
   "source": [
    "B = '''She is my good friend and cares for me a lot. \n",
    "She behaves me well and helps always. \n",
    "I met her in class 6 and became best friend. \n",
    "She is my true friend because she understands me very well and cares for my every need.'''\n",
    "print(B)"
   ]
  },
  {
   "cell_type": "code",
   "execution_count": 12,
   "id": "118c8346-74ef-430e-bdbb-ce97f88fccb7",
   "metadata": {},
   "outputs": [
    {
     "name": "stdout",
     "output_type": "stream",
     "text": [
      "r\n"
     ]
    }
   ],
   "source": [
    "#Strings are Arrays\n",
    "#Like many other popular programming languages, strings in Python are arrays of bytes representing unicode characters.\n",
    "a = \"Hello, World!\"\n",
    "print(a[9])"
   ]
  },
  {
   "cell_type": "code",
   "execution_count": 14,
   "id": "24544685-42ab-4603-beea-d807f7400486",
   "metadata": {},
   "outputs": [
    {
     "name": "stdout",
     "output_type": "stream",
     "text": [
      "b\n",
      "a\n",
      "n\n",
      "a\n",
      "n\n",
      "a\n"
     ]
    }
   ],
   "source": [
    "#Looping Through a String\n",
    "#Since strings are arrays, we can loop through the characters in a string, with a for loop.\n",
    "for z in \"banana\":\n",
    "  print(z)"
   ]
  },
  {
   "cell_type": "code",
   "execution_count": 16,
   "id": "f15b5be1-33ad-4d05-a1da-a0f0a0844b59",
   "metadata": {},
   "outputs": [
    {
     "name": "stdout",
     "output_type": "stream",
     "text": [
      "9\n"
     ]
    }
   ],
   "source": [
    "#String Length\n",
    "#To get the length of a string, use the len() function.\n",
    "a = \"Hello, OM\"\n",
    "print(len(a))"
   ]
  },
  {
   "cell_type": "code",
   "execution_count": 18,
   "id": "f7231c7d-77bd-45f1-a6fb-bba4642a0477",
   "metadata": {},
   "outputs": [
    {
     "name": "stdout",
     "output_type": "stream",
     "text": [
      "True\n"
     ]
    }
   ],
   "source": [
    "#Check String\n",
    "#To check if a certain phrase or character is present in a string, we can use the keyword in.\n",
    "txt = \"The best things in life are free!\"\n",
    "print(\"life\" in txt)"
   ]
  },
  {
   "cell_type": "code",
   "execution_count": 20,
   "id": "78143209-4faf-4d4f-87cc-1adad2d01e38",
   "metadata": {},
   "outputs": [
    {
     "name": "stdout",
     "output_type": "stream",
     "text": [
      "Yes, 'things' is present.\n"
     ]
    }
   ],
   "source": [
    "txt = \"The best things in life are free!\"\n",
    "if \"things\" in txt:\n",
    "  print(\"Yes, 'things' is present.\")"
   ]
  },
  {
   "cell_type": "code",
   "execution_count": 21,
   "id": "ae7110fa-b304-4278-8858-878817863344",
   "metadata": {},
   "outputs": [
    {
     "name": "stdout",
     "output_type": "stream",
     "text": [
      "True\n"
     ]
    }
   ],
   "source": [
    "#Check if NOT\n",
    "#To check if a certain phrase or character is NOT present in a string, we can use the keyword not in.\n",
    "txt = \"The best things in life are free!\"\n",
    "print(\"expensive\" not in txt)"
   ]
  },
  {
   "cell_type": "code",
   "execution_count": 22,
   "id": "6f8d1590-351a-4b53-bef8-259626e25acc",
   "metadata": {},
   "outputs": [
    {
     "name": "stdout",
     "output_type": "stream",
     "text": [
      "No, 'expensive' is NOT present.\n"
     ]
    }
   ],
   "source": [
    "txt = \"The best things in life are free!\"\n",
    "if \"expensive\" not in txt:\n",
    "  print(\"No, 'expensive' is NOT present.\")"
   ]
  }
 ],
 "metadata": {
  "kernelspec": {
   "display_name": "Python 3 (ipykernel)",
   "language": "python",
   "name": "python3"
  },
  "language_info": {
   "codemirror_mode": {
    "name": "ipython",
    "version": 3
   },
   "file_extension": ".py",
   "mimetype": "text/x-python",
   "name": "python",
   "nbconvert_exporter": "python",
   "pygments_lexer": "ipython3",
   "version": "3.11.7"
  }
 },
 "nbformat": 4,
 "nbformat_minor": 5
}
