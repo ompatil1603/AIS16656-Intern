{
 "cells": [
  {
   "cell_type": "code",
   "execution_count": 1,
   "id": "08998a3a-a28e-4ec1-aacd-675e8bb4b9b5",
   "metadata": {},
   "outputs": [
    {
     "name": "stdout",
     "output_type": "stream",
     "text": [
      "Om\n"
     ]
    }
   ],
   "source": [
    "#variable declaration rule \n",
    "#declare a variable start with a-z or A-Z \n",
    "Name=\"Om\"\n",
    "print(Name)"
   ]
  },
  {
   "cell_type": "code",
   "execution_count": 2,
   "id": "7f9a2b0d-3a4e-4f0b-8d9c-27878f7e2449",
   "metadata": {
    "scrolled": true
   },
   "outputs": [
    {
     "name": "stdout",
     "output_type": "stream",
     "text": [
      "Welcome to AIS Solution\n"
     ]
    }
   ],
   "source": [
    "mesg=\"Welcome to AIS Solution\"\n",
    "print(mesg)"
   ]
  },
  {
   "cell_type": "code",
   "execution_count": 3,
   "id": "6e5c9fb5-e7d6-4fb5-815c-7901fa34e568",
   "metadata": {},
   "outputs": [
    {
     "name": "stdout",
     "output_type": "stream",
     "text": [
      "25\n"
     ]
    }
   ],
   "source": [
    "#declare with (_)\n",
    "_var=25\n",
    "print(_var)"
   ]
  },
  {
   "cell_type": "code",
   "execution_count": 5,
   "id": "94462b01-60d1-4f01-925a-4fecab2c722b",
   "metadata": {},
   "outputs": [
    {
     "name": "stdout",
     "output_type": "stream",
     "text": [
      "13\n"
     ]
    }
   ],
   "source": [
    "#Invalid variables \n",
    "_var=13\n",
    "print(_var)"
   ]
  },
  {
   "cell_type": "markdown",
   "id": "f1aff53c-1dcd-4d04-94f3-f6fb7846f900",
   "metadata": {},
   "source": [
    "A variable name must start with a letter or an underscore character (_)\n",
    "A variable name cannot start with a digit\n",
    "A variable name can only contain alpha-numeric characters and underscores (a-z, A-Z, 0-9, and _ )\n",
    "Variable names are case-sensitive (age, Age and AGE are three different variables)\n",
    "There is no limit on the length of the variable name\n",
    "A variable name cannot contain spaces\n",
    "The variable name cannot be any Go keywords"
   ]
  },
  {
   "cell_type": "code",
   "execution_count": 8,
   "id": "102120e8-8c4a-4403-b9ee-0019ee2f7808",
   "metadata": {},
   "outputs": [],
   "source": [
    "#Camel Case\n",
    "#Each word, except the first, starts with a capital letter\n",
    "myVariableName = \"OM\""
   ]
  },
  {
   "cell_type": "code",
   "execution_count": 9,
   "id": "5b6e4c22-f4f3-4ec8-81a2-21fb36f9d9ff",
   "metadata": {},
   "outputs": [],
   "source": [
    "#Pascal Case\n",
    "#Each word starts with a capital letter:\n",
    "\n",
    "MyVariableName = \"OM\""
   ]
  },
  {
   "cell_type": "code",
   "execution_count": 10,
   "id": "ff656010-f6c8-4a83-9c4c-5a0b0984bc09",
   "metadata": {},
   "outputs": [],
   "source": [
    "#Snake Case\n",
    "#Each word is separated by an underscore character\n",
    "my_variable_name = \"OM\""
   ]
  },
  {
   "cell_type": "code",
   "execution_count": 20,
   "id": "5342606c-0937-4303-8e71-c17eb2c89dc6",
   "metadata": {},
   "outputs": [
    {
     "name": "stdout",
     "output_type": "stream",
     "text": [
      "red\n",
      "black\n",
      "yellow\n",
      "pink\n"
     ]
    }
   ],
   "source": [
    "#many values to multiple variables \n",
    "#example \n",
    "x,y,z,w = \"red\",\"black\",\"yellow\",\"pink\"\n",
    "print(x)\n",
    "print(y)\n",
    "print(z)\n",
    "print(w)"
   ]
  }
 ],
 "metadata": {
  "kernelspec": {
   "display_name": "Python 3 (ipykernel)",
   "language": "python",
   "name": "python3"
  },
  "language_info": {
   "codemirror_mode": {
    "name": "ipython",
    "version": 3
   },
   "file_extension": ".py",
   "mimetype": "text/x-python",
   "name": "python",
   "nbconvert_exporter": "python",
   "pygments_lexer": "ipython3",
   "version": "3.11.7"
  }
 },
 "nbformat": 4,
 "nbformat_minor": 5
}
