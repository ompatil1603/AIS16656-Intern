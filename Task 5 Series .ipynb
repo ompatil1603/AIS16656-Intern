{
 "cells": [
  {
   "cell_type": "markdown",
   "id": "79ca5cc3-d888-41db-9f68-da4530409818",
   "metadata": {},
   "source": [
    "Pandas Series\r",
    "What is a Series?\r\n",
    "A Pandas Series is like a column in a table\r\n",
    "\r\n",
    "It is a one-dimensional array holding data of any type.\n"
   ]
  },
  {
   "cell_type": "markdown",
   "id": "368506e3-24bb-4b3e-8b8d-24f0c2e65eec",
   "metadata": {},
   "source": [
    "Pandas is a powerful and flexible open-source data analysis and manipulation library for the Python programming language. It provides data structures and functions needed to work with structured data seamlessly, making it a popular choice among data scientists and analysts. Here are the key aspects and functionalities of the pandas library"
   ]
  },
  {
   "cell_type": "code",
   "execution_count": 7,
   "id": "2233b011-ecf7-4891-a767-b3592855d83e",
   "metadata": {},
   "outputs": [
    {
     "name": "stdout",
     "output_type": "stream",
     "text": [
      "    A   B   C\n",
      "0   8  16  24\n",
      "1  10  18  32\n",
      "2  12  22  38\n"
     ]
    }
   ],
   "source": [
    "import pandas as pd\n",
    "\n",
    "# Sample DataFrame\n",
    "df = pd.DataFrame({\n",
    "    'A': [4,5,6],\n",
    "    'B': [8,9,11],\n",
    "    'C': [12,16,19]\n",
    "})\n",
    "\n",
    "# Function to apply\n",
    "def my_function(x):\n",
    "    return x * 2\n",
    "\n",
    "# Applying the function to each column\n",
    "df_applied = df.apply(my_function, axis=0)\n",
    "print(df_applied)"
   ]
  },
  {
   "cell_type": "code",
   "execution_count": 2,
   "id": "3e6c666f-0007-498f-ac28-a99113b5bcad",
   "metadata": {},
   "outputs": [
    {
     "name": "stdout",
     "output_type": "stream",
     "text": [
      "    A   B   C\n",
      "0   8  16  24\n",
      "1  10  18  32\n",
      "2  12  22  38\n"
     ]
    }
   ],
   "source": [
    "import pandas as pd\n",
    "\n",
    "# Sample DataFrame\n",
    "df = pd.DataFrame({\n",
    "    'A': [4,5,6],\n",
    "    'B': [8,9,11],\n",
    "    'C': [12,16,19]\n",
    "})\n",
    "\n",
    "# Applying the function to each row\n",
    "df_applied = df.apply(my_function, axis=1)\n",
    "print(df_applied)"
   ]
  },
  {
   "cell_type": "code",
   "execution_count": 8,
   "id": "ec0e9403-9a07-4b11-bca1-bdaf5b6a83a5",
   "metadata": {},
   "outputs": [
    {
     "name": "stdout",
     "output_type": "stream",
     "text": [
      "    A   B   C\n",
      "0  14  18  22\n",
      "1  15  19  26\n",
      "2  16  21  29\n"
     ]
    }
   ],
   "source": [
    "import pandas as pd\n",
    "\n",
    "# Sample DataFrame\n",
    "df = pd.DataFrame({\n",
    "    'A': [4,5,6],\n",
    "    'B': [8,9,11],\n",
    "    'C': [12,16,19]\n",
    "})\n",
    "# Applying a lambda function to each column\n",
    "df_applied = df.apply(lambda x: x + 10, axis=0)\n",
    "print(df_applied)\n"
   ]
  },
  {
   "cell_type": "code",
   "execution_count": 9,
   "id": "3a16187b-ced8-45b1-afbe-b7d2273d9e92",
   "metadata": {},
   "outputs": [
    {
     "name": "stdout",
     "output_type": "stream",
     "text": [
      "    A   B   C\n",
      "0  14  18  22\n",
      "1  15  19  26\n",
      "2  16  21  29\n"
     ]
    }
   ],
   "source": [
    "# Applying a lambda function to each column\n",
    "df_applied = df.apply(lambda x: x + 10, axis=0)\n",
    "print(df_applied)\n"
   ]
  },
  {
   "cell_type": "code",
   "execution_count": 10,
   "id": "06dfd4ec-e4b1-40f9-8703-0ae9d58682be",
   "metadata": {},
   "outputs": [
    {
     "name": "stdout",
     "output_type": "stream",
     "text": [
      "0     36\n",
      "1     49\n",
      "2     81\n",
      "3    144\n",
      "4    256\n",
      "5    361\n",
      "dtype: int64\n"
     ]
    }
   ],
   "source": [
    "# Sample Series\n",
    "s = pd.Series([6,7,9,12,16,19])\n",
    "\n",
    "# Applying a function to each element\n",
    "s_applied = s.apply(lambda x: x ** 2)\n",
    "print(s_applied)"
   ]
  },
  {
   "cell_type": "code",
   "execution_count": 11,
   "id": "2bd95cc0-6f16-4a89-8a76-59bc3f3a9875",
   "metadata": {},
   "outputs": [
    {
     "name": "stdout",
     "output_type": "stream",
     "text": [
      "     A         B         C\n",
      "0 -1.0 -0.872872 -1.044074\n",
      "1  0.0 -0.218218  0.094916\n",
      "2  1.0  1.091089  0.949158\n"
     ]
    }
   ],
   "source": [
    "# Normalizing data\n",
    "def normalize(x):\n",
    "    return (x - x.mean()) / x.std()\n",
    "\n",
    "df_normalized = df.apply(normalize)\n",
    "print(df_normalized)"
   ]
  },
  {
   "cell_type": "code",
   "execution_count": 13,
   "id": "17bc0578-e5d6-467f-9083-929938e97747",
   "metadata": {},
   "outputs": [
    {
     "name": "stdout",
     "output_type": "stream",
     "text": [
      "     A    B   C\n",
      "0  5.0  6.0   7\n",
      "1  6.5  5.0   9\n",
      "2  8.0  7.0  13\n"
     ]
    }
   ],
   "source": [
    "# DataFrame with missing values\n",
    "df_with_nan = pd.DataFrame({\n",
    "    'A': [5,None,8],\n",
    "    'B': [None,5,7],\n",
    "    'C': [7,9,13]\n",
    "})\n",
    "\n",
    "# Filling missing values with the mean of each column\n",
    "df_filled = df_with_nan.apply(lambda x: x.fillna(x.mean()), axis=0)\n",
    "print(df_filled)"
   ]
  },
  {
   "cell_type": "code",
   "execution_count": 14,
   "id": "22ea00f1-10d5-4726-920f-5af68aadcf1d",
   "metadata": {},
   "outputs": [
    {
     "name": "stdout",
     "output_type": "stream",
     "text": [
      "0    even\n",
      "1     odd\n",
      "2     odd\n",
      "3    even\n",
      "4    even\n",
      "5     odd\n",
      "dtype: object\n"
     ]
    }
   ],
   "source": [
    "# Applying a conditional function\n",
    "s_conditional = s.apply(lambda x: 'even' if x % 2 == 0 else 'odd')\n",
    "print(s_conditional)"
   ]
  }
 ],
 "metadata": {
  "kernelspec": {
   "display_name": "Python 3 (ipykernel)",
   "language": "python",
   "name": "python3"
  },
  "language_info": {
   "codemirror_mode": {
    "name": "ipython",
    "version": 3
   },
   "file_extension": ".py",
   "mimetype": "text/x-python",
   "name": "python",
   "nbconvert_exporter": "python",
   "pygments_lexer": "ipython3",
   "version": "3.11.7"
  }
 },
 "nbformat": 4,
 "nbformat_minor": 5
}
